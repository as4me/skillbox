{
 "cells": [
  {
   "cell_type": "code",
   "execution_count": 1,
   "id": "c7b87edb",
   "metadata": {},
   "outputs": [
    {
     "data": {
      "text/html": [
       "<div>\n",
       "<style scoped>\n",
       "    .dataframe tbody tr th:only-of-type {\n",
       "        vertical-align: middle;\n",
       "    }\n",
       "\n",
       "    .dataframe tbody tr th {\n",
       "        vertical-align: top;\n",
       "    }\n",
       "\n",
       "    .dataframe thead th {\n",
       "        text-align: right;\n",
       "    }\n",
       "</style>\n",
       "<table border=\"1\" class=\"dataframe\">\n",
       "  <thead>\n",
       "    <tr style=\"text-align: right;\">\n",
       "      <th></th>\n",
       "      <th>Unnamed: 0</th>\n",
       "      <th>X</th>\n",
       "      <th>id</th>\n",
       "      <th>age</th>\n",
       "      <th>group</th>\n",
       "      <th>vote</th>\n",
       "    </tr>\n",
       "  </thead>\n",
       "  <tbody>\n",
       "    <tr>\n",
       "      <th>0</th>\n",
       "      <td>1</td>\n",
       "      <td>1</td>\n",
       "      <td>1</td>\n",
       "      <td>21</td>\n",
       "      <td>control</td>\n",
       "      <td>1</td>\n",
       "    </tr>\n",
       "    <tr>\n",
       "      <th>1</th>\n",
       "      <td>2</td>\n",
       "      <td>2</td>\n",
       "      <td>2</td>\n",
       "      <td>20</td>\n",
       "      <td>control</td>\n",
       "      <td>1</td>\n",
       "    </tr>\n",
       "    <tr>\n",
       "      <th>2</th>\n",
       "      <td>3</td>\n",
       "      <td>3</td>\n",
       "      <td>3</td>\n",
       "      <td>22</td>\n",
       "      <td>control</td>\n",
       "      <td>2</td>\n",
       "    </tr>\n",
       "    <tr>\n",
       "      <th>3</th>\n",
       "      <td>4</td>\n",
       "      <td>4</td>\n",
       "      <td>4</td>\n",
       "      <td>18</td>\n",
       "      <td>control</td>\n",
       "      <td>1</td>\n",
       "    </tr>\n",
       "    <tr>\n",
       "      <th>4</th>\n",
       "      <td>5</td>\n",
       "      <td>5</td>\n",
       "      <td>5</td>\n",
       "      <td>23</td>\n",
       "      <td>control</td>\n",
       "      <td>0</td>\n",
       "    </tr>\n",
       "  </tbody>\n",
       "</table>\n",
       "</div>"
      ],
      "text/plain": [
       "   Unnamed: 0  X  id  age    group  vote\n",
       "0           1  1   1   21  control     1\n",
       "1           2  2   2   20  control     1\n",
       "2           3  3   3   22  control     2\n",
       "3           4  4   4   18  control     1\n",
       "4           5  5   5   23  control     0"
      ]
     },
     "execution_count": 1,
     "metadata": {},
     "output_type": "execute_result"
    }
   ],
   "source": [
    "import numpy as np\n",
    "import pandas as pd\n",
    "import random\n",
    "from statsmodels.stats.proportion import proportions_ztest\n",
    "\n",
    "parf = pd.read_csv('./parfume.csv')\n",
    "parf.head()"
   ]
  },
  {
   "cell_type": "code",
   "execution_count": 2,
   "id": "ea844c99",
   "metadata": {},
   "outputs": [
    {
     "data": {
      "text/html": [
       "<div>\n",
       "<style scoped>\n",
       "    .dataframe tbody tr th:only-of-type {\n",
       "        vertical-align: middle;\n",
       "    }\n",
       "\n",
       "    .dataframe tbody tr th {\n",
       "        vertical-align: top;\n",
       "    }\n",
       "\n",
       "    .dataframe thead th {\n",
       "        text-align: right;\n",
       "    }\n",
       "</style>\n",
       "<table border=\"1\" class=\"dataframe\">\n",
       "  <thead>\n",
       "    <tr style=\"text-align: right;\">\n",
       "      <th></th>\n",
       "      <th>Unnamed: 0</th>\n",
       "      <th>X</th>\n",
       "      <th>id</th>\n",
       "      <th>age</th>\n",
       "      <th>group</th>\n",
       "      <th>vote</th>\n",
       "    </tr>\n",
       "  </thead>\n",
       "  <tbody>\n",
       "    <tr>\n",
       "      <th>0</th>\n",
       "      <td>1</td>\n",
       "      <td>1</td>\n",
       "      <td>1</td>\n",
       "      <td>21</td>\n",
       "      <td>control</td>\n",
       "      <td>1</td>\n",
       "    </tr>\n",
       "    <tr>\n",
       "      <th>1</th>\n",
       "      <td>2</td>\n",
       "      <td>2</td>\n",
       "      <td>2</td>\n",
       "      <td>20</td>\n",
       "      <td>control</td>\n",
       "      <td>1</td>\n",
       "    </tr>\n",
       "    <tr>\n",
       "      <th>3</th>\n",
       "      <td>4</td>\n",
       "      <td>4</td>\n",
       "      <td>4</td>\n",
       "      <td>18</td>\n",
       "      <td>control</td>\n",
       "      <td>1</td>\n",
       "    </tr>\n",
       "    <tr>\n",
       "      <th>4</th>\n",
       "      <td>5</td>\n",
       "      <td>5</td>\n",
       "      <td>5</td>\n",
       "      <td>23</td>\n",
       "      <td>control</td>\n",
       "      <td>0</td>\n",
       "    </tr>\n",
       "    <tr>\n",
       "      <th>5</th>\n",
       "      <td>6</td>\n",
       "      <td>6</td>\n",
       "      <td>6</td>\n",
       "      <td>18</td>\n",
       "      <td>control</td>\n",
       "      <td>1</td>\n",
       "    </tr>\n",
       "  </tbody>\n",
       "</table>\n",
       "</div>"
      ],
      "text/plain": [
       "   Unnamed: 0  X  id  age    group  vote\n",
       "0           1  1   1   21  control     1\n",
       "1           2  2   2   20  control     1\n",
       "3           4  4   4   18  control     1\n",
       "4           5  5   5   23  control     0\n",
       "5           6  6   6   18  control     1"
      ]
     },
     "execution_count": 2,
     "metadata": {},
     "output_type": "execute_result"
    }
   ],
   "source": [
    "parf = parf.loc[parf['vote'] != 2]\n",
    "parf.head()"
   ]
  },
  {
   "cell_type": "code",
   "execution_count": 3,
   "id": "a8716ed2",
   "metadata": {},
   "outputs": [
    {
     "name": "stdout",
     "output_type": "stream",
     "text": [
      "     Unnamed: 0    X   id  age group  vote\n",
      "124         125  125  125   22  test     1\n",
      "125         126  126  126   23  test     0\n",
      "126         127  127  127   24  test     0\n",
      "127         128  128  128   24  test     1\n",
      "128         129  129  129   23  test     1\n",
      "   Unnamed: 0  X  id  age    group  vote\n",
      "0           1  1   1   21  control     1\n",
      "1           2  2   2   20  control     1\n",
      "3           4  4   4   18  control     1\n",
      "4           5  5   5   23  control     0\n",
      "5           6  6   6   18  control     1\n"
     ]
    }
   ],
   "source": [
    "control = parf.loc[parf['group'] == 'control']\n",
    "test = parf.loc[parf['group'] == 'test']\n",
    "print(test.head())\n",
    "print(control.head())\n"
   ]
  },
  {
   "cell_type": "code",
   "execution_count": 4,
   "id": "a09c7d52",
   "metadata": {},
   "outputs": [
    {
     "data": {
      "text/plain": [
       "0.22326293235384148"
      ]
     },
     "execution_count": 4,
     "metadata": {},
     "output_type": "execute_result"
    }
   ],
   "source": [
    "p_test = test['vote'].mean()\n",
    "p_control = control['vote'].mean()\n",
    "p_test - p_control"
   ]
  },
  {
   "cell_type": "code",
   "execution_count": 5,
   "id": "10f5169f",
   "metadata": {},
   "outputs": [],
   "source": [
    "ns_control = sum(control['vote'])\n",
    "ns_test = sum(test['vote'])\n",
    "ns_control_len = control.shape[0]\n",
    "ns_test_len = test.shape[0]\n",
    "n = min(ns_control_len, ns_test_len)"
   ]
  },
  {
   "cell_type": "code",
   "execution_count": 6,
   "id": "735919ee",
   "metadata": {},
   "outputs": [],
   "source": [
    "count = np.array([control['vote'][0:n].sum(), test['vote'][0:n].sum()])"
   ]
  },
  {
   "cell_type": "code",
   "execution_count": 7,
   "id": "7dc39831",
   "metadata": {},
   "outputs": [],
   "source": [
    "nobs = np.array([n, n])"
   ]
  },
  {
   "cell_type": "code",
   "execution_count": 8,
   "id": "35c480b1",
   "metadata": {},
   "outputs": [
    {
     "data": {
      "text/plain": [
       "(-3.4831671024730886, 0.000495518964408123)"
      ]
     },
     "execution_count": 8,
     "metadata": {},
     "output_type": "execute_result"
    }
   ],
   "source": [
    "proportions_ztest(count, nobs)"
   ]
  },
  {
   "cell_type": "markdown",
   "id": "fa4d5cf1",
   "metadata": {},
   "source": [
    "чернобелая реклама лучше тк 0.000495518964408123 меньше 5ти процентов"
   ]
  },
  {
   "cell_type": "code",
   "execution_count": null,
   "id": "b622f63f",
   "metadata": {},
   "outputs": [],
   "source": []
  }
 ],
 "metadata": {
  "kernelspec": {
   "display_name": "Python 3",
   "language": "python",
   "name": "python3"
  },
  "language_info": {
   "codemirror_mode": {
    "name": "ipython",
    "version": 3
   },
   "file_extension": ".py",
   "mimetype": "text/x-python",
   "name": "python",
   "nbconvert_exporter": "python",
   "pygments_lexer": "ipython3",
   "version": "3.8.8"
  }
 },
 "nbformat": 4,
 "nbformat_minor": 5
}
