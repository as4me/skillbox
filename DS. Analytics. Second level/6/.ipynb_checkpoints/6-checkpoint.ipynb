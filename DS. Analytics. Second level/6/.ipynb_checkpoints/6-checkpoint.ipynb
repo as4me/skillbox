{
 "cells": [
  {
   "cell_type": "code",
   "execution_count": null,
   "id": "353898e7",
   "metadata": {},
   "outputs": [],
   "source": [
    "import numpy as np\n",
    "import pandas as pd\n",
    "import random\n",
    "from statsmodels.stats.proportion import proportions_ztest\n",
    "\n",
    "parf = pd.read_csv(\"\")\n",
    "parf.head()"
   ]
  }
 ],
 "metadata": {
  "kernelspec": {
   "display_name": "Python 3",
   "language": "python",
   "name": "python3"
  },
  "language_info": {
   "codemirror_mode": {
    "name": "ipython",
    "version": 3
   },
   "file_extension": ".py",
   "mimetype": "text/x-python",
   "name": "python",
   "nbconvert_exporter": "python",
   "pygments_lexer": "ipython3",
   "version": "3.8.8"
  }
 },
 "nbformat": 4,
 "nbformat_minor": 5
}
