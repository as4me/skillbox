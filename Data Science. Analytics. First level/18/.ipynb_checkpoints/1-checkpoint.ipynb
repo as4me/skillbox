{
 "cells": [
  {
   "cell_type": "markdown",
   "metadata": {
    "id": "zgfg6PaTrknK"
   },
   "source": [
    "# Чтение и запись данных\n"
   ]
  },
  {
   "cell_type": "code",
   "execution_count": 1,
   "metadata": {
    "id": "qpd3wki0rknL"
   },
   "outputs": [],
   "source": [
    "import urllib.request as req\n",
    "import json\n",
    "import pandas as pd"
   ]
  },
  {
   "cell_type": "markdown",
   "metadata": {
    "id": "FOXDpSRnrknP"
   },
   "source": [
    "## Урок 1. Чтение данных из web-сервиса\n",
    "\n",
    "### Практика\n",
    "\n",
    "#### Задание 1\n",
    "\n",
    "Используя сервис MetaWeather, найдите идентификатор города Париж (Paris). Для запроса используйте адрес из следующей ячейки, заменив `%city%` на имя города."
   ]
  },
  {
   "cell_type": "code",
   "execution_count": 3,
   "metadata": {
    "id": "1Xljt65SrknP"
   },
   "outputs": [],
   "source": [
    "url = \"https://www.metaweather.com/api/location/search/?query=Paris\"\n",
    "with req.urlopen(url) as session:\n",
    "    response = session.read().decode()\n",
    "    data = json.load(r)\n"
   ]
  },
  {
   "cell_type": "markdown",
   "metadata": {
    "id": "H0XwvPuJrknR"
   },
   "source": [
    "#### Задание 2\n",
    "\n",
    "Используя полученный идентификатор города, запросите данные о погоде в Париже за 28 мая 2020 года. Для запроса используйте адрес из следующей ячейки, заменив `%city_id%`, `%year%`, `%month%`, `%day%` на идентификатор города, год, месяц и день соответственно."
   ]
  },
  {
   "cell_type": "code",
   "execution_count": null,
   "metadata": {
    "id": "tjsftok3rknS"
   },
   "outputs": [],
   "source": [
    "url = 'https://www.metaweather.com/api/location/%city_id%/%year%/%month%/%day%/'\n"
   ]
  }
 ],
 "metadata": {
  "colab": {
   "collapsed_sections": [],
   "name": "1.ipynb",
   "provenance": []
  },
  "kernelspec": {
   "display_name": "Python 3",
   "language": "python",
   "name": "python3"
  },
  "language_info": {
   "codemirror_mode": {
    "name": "ipython",
    "version": 3
   },
   "file_extension": ".py",
   "mimetype": "text/x-python",
   "name": "python",
   "nbconvert_exporter": "python",
   "pygments_lexer": "ipython3",
   "version": "3.8.3"
  }
 },
 "nbformat": 4,
 "nbformat_minor": 1
}
