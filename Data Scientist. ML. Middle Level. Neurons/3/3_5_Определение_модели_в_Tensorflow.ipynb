{
 "cells": [
  {
   "cell_type": "markdown",
   "metadata": {
    "id": "SG79UvKlPBUg"
   },
   "source": [
    "## Модель\n",
    "\n",
    "Как мы с вами обсудили на лекции -- одним из основных блоков программы для обучения нейронных сетей является *описание модели*.\n",
    "\n",
    "Что такое модель? Вне зависимости от используемого фреймворка, это блок кода, который показывает нашей программе как исходные признаки должны быть преобразованы в предсказания модели. \n",
    "\n",
    "А вот само определение модели зависит от фреймворка и каждый из них предлагает свою структуру (правила) описания моделей (которые сейчас становятся все более похожи друг на друга). Структура необходима для того, чтобы фреймворк мог построить вычислительный граф и мог правильно считать его производные."
   ]
  },
  {
   "cell_type": "markdown",
   "metadata": {
    "id": "zZzdE0qXFJd8"
   },
   "source": [
    "## Keras API для Tensorflow\n",
    "\n",
    "Изучение Tensorflow мы начнем сразу с высокоуровневого интерфейса Keras, который считается основным интерфейсом для реализации нейронных сетей в tensorflow и с недавних пор является его частью. Теоретически, все, что мы будем делаем можно реализовать без использования Keras, но в таком случае нам придется писать и тестировать большое количество самописных классов и функций, что не является целью данного блока"
   ]
  },
  {
   "cell_type": "markdown",
   "metadata": {
    "id": "EUeHu8iOPD4V"
   },
   "source": [
    "\n",
    "## Модель в Keras\n",
    "\n",
    " Модель в Keras -- это объект класса **tf.keras.Model**"
   ]
  },
  {
   "cell_type": "code",
   "execution_count": 1,
   "metadata": {
    "id": "b3WDUlrzLWys"
   },
   "outputs": [
    {
     "data": {
      "text/plain": [
       "True"
      ]
     },
     "execution_count": 1,
     "metadata": {},
     "output_type": "execute_result"
    }
   ],
   "source": [
    "import tensorflow as tf\n",
    "tf.executing_eagerly()"
   ]
  },
  {
   "cell_type": "code",
   "execution_count": 2,
   "metadata": {
    "colab": {
     "base_uri": "https://localhost:8080/",
     "height": 35
    },
    "id": "SbPYbMpfLbLi",
    "outputId": "e8ce9a47-9dcd-4ba0-f3a8-9849feade02a"
   },
   "outputs": [
    {
     "name": "stdout",
     "output_type": "stream",
     "text": [
      "Metal device set to: Apple M1\n"
     ]
    },
    {
     "name": "stderr",
     "output_type": "stream",
     "text": [
      "2021-11-08 22:30:19.481307: I tensorflow/core/common_runtime/pluggable_device/pluggable_device_factory.cc:305] Could not identify NUMA node of platform GPU ID 0, defaulting to 0. Your kernel may not have been built with NUMA support.\n",
      "2021-11-08 22:30:19.481738: I tensorflow/core/common_runtime/pluggable_device/pluggable_device_factory.cc:271] Created TensorFlow device (/job:localhost/replica:0/task:0/device:GPU:0 with 0 MB memory) -> physical PluggableDevice (device: 0, name: METAL, pci bus id: <undefined>)\n"
     ]
    },
    {
     "data": {
      "text/plain": [
       "keras.engine.training.Model"
      ]
     },
     "execution_count": 2,
     "metadata": {},
     "output_type": "execute_result"
    }
   ],
   "source": [
    "model = tf.keras.Model()\n",
    "type(model)"
   ]
  },
  {
   "cell_type": "code",
   "execution_count": 3,
   "metadata": {
    "colab": {
     "base_uri": "https://localhost:8080/",
     "height": 35
    },
    "id": "uKTeSzMcLmg6",
    "outputId": "9879369e-b611-4af0-9971-f908f833497f"
   },
   "outputs": [
    {
     "data": {
      "text/plain": [
       "'`Model` groups layers into an object with training and inference features.'"
      ]
     },
     "execution_count": 3,
     "metadata": {},
     "output_type": "execute_result"
    },
    {
     "data": {
      "text/plain": [
       "\u001b[0;31mInit signature:\u001b[0m \u001b[0mtf\u001b[0m\u001b[0;34m.\u001b[0m\u001b[0mkeras\u001b[0m\u001b[0;34m.\u001b[0m\u001b[0mModel\u001b[0m\u001b[0;34m(\u001b[0m\u001b[0;34m*\u001b[0m\u001b[0margs\u001b[0m\u001b[0;34m,\u001b[0m \u001b[0;34m**\u001b[0m\u001b[0mkwargs\u001b[0m\u001b[0;34m)\u001b[0m\u001b[0;34m\u001b[0m\u001b[0;34m\u001b[0m\u001b[0m\n",
       "\u001b[0;31mDocstring:\u001b[0m     \n",
       "`Model` groups layers into an object with training and inference features.\n",
       "\n",
       "Args:\n",
       "    inputs: The input(s) of the model: a `keras.Input` object or list of\n",
       "        `keras.Input` objects.\n",
       "    outputs: The output(s) of the model. See Functional API example below.\n",
       "    name: String, the name of the model.\n",
       "\n",
       "There are two ways to instantiate a `Model`:\n",
       "\n",
       "1 - With the \"Functional API\", where you start from `Input`,\n",
       "you chain layer calls to specify the model's forward pass,\n",
       "and finally you create your model from inputs and outputs:\n",
       "\n",
       "```python\n",
       "import tensorflow as tf\n",
       "\n",
       "inputs = tf.keras.Input(shape=(3,))\n",
       "x = tf.keras.layers.Dense(4, activation=tf.nn.relu)(inputs)\n",
       "outputs = tf.keras.layers.Dense(5, activation=tf.nn.softmax)(x)\n",
       "model = tf.keras.Model(inputs=inputs, outputs=outputs)\n",
       "```\n",
       "\n",
       "Note: Only dicts, lists, and tuples of input tensors are supported. Nested\n",
       "inputs are not supported (e.g. lists of list or dicts of dict).\n",
       "\n",
       "2 - By subclassing the `Model` class: in that case, you should define your\n",
       "layers in `__init__` and you should implement the model's forward pass\n",
       "in `call`.\n",
       "\n",
       "```python\n",
       "import tensorflow as tf\n",
       "\n",
       "class MyModel(tf.keras.Model):\n",
       "\n",
       "  def __init__(self):\n",
       "    super(MyModel, self).__init__()\n",
       "    self.dense1 = tf.keras.layers.Dense(4, activation=tf.nn.relu)\n",
       "    self.dense2 = tf.keras.layers.Dense(5, activation=tf.nn.softmax)\n",
       "\n",
       "  def call(self, inputs):\n",
       "    x = self.dense1(inputs)\n",
       "    return self.dense2(x)\n",
       "\n",
       "model = MyModel()\n",
       "```\n",
       "\n",
       "If you subclass `Model`, you can optionally have\n",
       "a `training` argument (boolean) in `call`, which you can use to specify\n",
       "a different behavior in training and inference:\n",
       "\n",
       "```python\n",
       "import tensorflow as tf\n",
       "\n",
       "class MyModel(tf.keras.Model):\n",
       "\n",
       "  def __init__(self):\n",
       "    super(MyModel, self).__init__()\n",
       "    self.dense1 = tf.keras.layers.Dense(4, activation=tf.nn.relu)\n",
       "    self.dense2 = tf.keras.layers.Dense(5, activation=tf.nn.softmax)\n",
       "    self.dropout = tf.keras.layers.Dropout(0.5)\n",
       "\n",
       "  def call(self, inputs, training=False):\n",
       "    x = self.dense1(inputs)\n",
       "    if training:\n",
       "      x = self.dropout(x, training=training)\n",
       "    return self.dense2(x)\n",
       "\n",
       "model = MyModel()\n",
       "```\n",
       "\n",
       "Once the model is created, you can config the model with losses and metrics\n",
       "with `model.compile()`, train the model with `model.fit()`, or use the model\n",
       "to do prediction with `model.predict()`.\n",
       "\u001b[0;31mFile:\u001b[0m           ~/miniforge3/lib/python3.9/site-packages/keras/engine/training.py\n",
       "\u001b[0;31mType:\u001b[0m           type\n",
       "\u001b[0;31mSubclasses:\u001b[0m     Functional, Model, LinearModel, WideDeepModel\n"
      ]
     },
     "metadata": {},
     "output_type": "display_data"
    }
   ],
   "source": [
    "tf.keras.Model?\n",
    "\"`Model` groups layers into an object with training and inference features.\""
   ]
  },
  {
   "cell_type": "markdown",
   "metadata": {
    "id": "_llRWReAMPv4"
   },
   "source": [
    "Из документации видно, что модель -- работает со слоями. Что же такое слой? Если смотреть на модель как на конструктор, то слой -- это кубик.\n",
    "\n",
    "Другими словами слой -- это слой нейронной сети. Их типов существует [очень много](https://www.tensorflow.org/api_docs/python/tf/keras/layers). Но на данный момент мы знаем только один слой -- полносвязный. Давайте посмотрим, как его определить в Keras.\n"
   ]
  },
  {
   "cell_type": "markdown",
   "metadata": {
    "id": "cVjKTlb1Ozr4"
   },
   "source": [
    "### Полносвязный слой\n",
    "Полносвязный слой в Tensorflow называется Dense и живет в tensorflow.keras.layers."
   ]
  },
  {
   "cell_type": "code",
   "execution_count": 4,
   "metadata": {
    "id": "DxWqWRrgMRn6"
   },
   "outputs": [],
   "source": [
    "from tensorflow.keras.layers import Dense\n",
    "import numpy as np\n",
    "#Dense?"
   ]
  },
  {
   "cell_type": "markdown",
   "metadata": {
    "id": "RGxdw2XBPRLD"
   },
   "source": [
    "Он имеет следующие параметры (показаны лишь самые основные):\n",
    "\n",
    "```\n",
    "Dense(units, activation=None, use_bias=True, kernel_initializer='glorot_uniform', bias_initializer='zeros', ...)\n",
    "```\n",
    "\n",
    "\n",
    "*   units -- количество нейронов на выходе из слоя\n",
    "*   activation -- функция активации, например \"sigmoid\", \"relu\", \"softmax\". по умолчанию -- слой без активации\n",
    "*   use_bias -- применять ли bias \n",
    "*   kernel_initializer и bias_initializer -- правила инициализации матрицы весов (kernel) и баеса. Это часто используемые значения \"по-умолчанию\". Скорее всего вам не придется их никогда менять)"
   ]
  },
  {
   "cell_type": "markdown",
   "metadata": {
    "id": "zeS2kCDsMksC"
   },
   "source": [
    "Обратите внимание в этом списке нет \"количества нейронов на входе\". В keras необходимо указывать количество входных нейронов только в первом слое сети. В остальных он посчитает самостоятельно -- ведь, количество входных нейронов в слой, должно быть равно количеству выходных нейронов на предыдущем слое. \n",
    "\n",
    "В первом слое размер входа указывается через input_shape. \n",
    "\n",
    "Рассмотрим пример ниже. В нем мы “применим” слой к инпуту x. Для применения слоя нужно вызвать его метод `__call__` , который вызывается когда аргумент передается в скобках, это мы делаем в третьей строчке.\n"
   ]
  },
  {
   "cell_type": "code",
   "execution_count": 5,
   "metadata": {
    "colab": {
     "base_uri": "https://localhost:8080/",
     "height": 89
    },
    "id": "L1d11N2PMNaG",
    "outputId": "fa80e2a6-a772-4367-c7ea-76d4a6badd5b"
   },
   "outputs": [
    {
     "name": "stdout",
     "output_type": "stream",
     "text": [
      "Output: [[0.6078565  0.42318785]\n",
      " [0.6078565  0.42318785]\n",
      " [0.6078565  0.42318785]\n",
      " [0.6078565  0.42318785]]\n"
     ]
    }
   ],
   "source": [
    "x = np.ones((4, 3)) # 4 объекта, 3 признака\n",
    "\n",
    "dense_layer = Dense(units=2, input_shape=(3,))\n",
    "output = dense_layer(x)\n",
    "print(f\"Output: {output}\")"
   ]
  },
  {
   "cell_type": "code",
   "execution_count": 6,
   "metadata": {
    "colab": {
     "base_uri": "https://localhost:8080/",
     "height": 89
    },
    "id": "fbi1YKRt7cW6",
    "outputId": "0b742703-3273-41a3-c1a3-3c6ca20a1823"
   },
   "outputs": [
    {
     "name": "stdout",
     "output_type": "stream",
     "text": [
      "Weights: [[-0.0537883   0.35087073]\n",
      " [ 0.02585888 -0.8975496 ]\n",
      " [ 0.63578594  0.96986675]]\n",
      "Bias: [0. 0.]\n"
     ]
    }
   ],
   "source": [
    "w, b = dense_layer.get_weights() \n",
    "print(f\"Weights: {w}\")\n",
    "print(f\"Bias: {b}\")"
   ]
  },
  {
   "cell_type": "code",
   "execution_count": 7,
   "metadata": {
    "colab": {
     "base_uri": "https://localhost:8080/",
     "height": 89
    },
    "id": "nlx7Nd617hBo",
    "outputId": "4dbee362-df6c-4fc3-b300-f77306190ae0"
   },
   "outputs": [
    {
     "name": "stdout",
     "output_type": "stream",
     "text": [
      "Manual output: [[0.60785651 0.42318785]\n",
      " [0.60785651 0.42318785]\n",
      " [0.60785651 0.42318785]\n",
      " [0.60785651 0.42318785]]\n"
     ]
    }
   ],
   "source": [
    "manual_output = np.matmul(x, w) + b\n",
    "print(f\"Manual output: {manual_output}\")"
   ]
  },
  {
   "cell_type": "code",
   "execution_count": 8,
   "metadata": {
    "colab": {
     "base_uri": "https://localhost:8080/",
     "height": 71
    },
    "id": "QrzeIsRLZKa8",
    "outputId": "7fa50364-35ca-423b-97e3-ca1a6eb463c6"
   },
   "outputs": [
    {
     "name": "stdout",
     "output_type": "stream",
     "text": [
      "[array([[-0.65537477, -1.0858674 ],\n",
      "       [-0.70050496,  0.30921257],\n",
      "       [-0.624342  ,  0.14227223]], dtype=float32)]\n"
     ]
    }
   ],
   "source": [
    "x = np.ones((4, 3))\n",
    "dense_layer = Dense(2, input_shape=(3,), use_bias=False) # можно инициализировать слой без баеса\n",
    "output = dense_layer(x)\n",
    "print(dense_layer.get_weights())"
   ]
  },
  {
   "cell_type": "markdown",
   "metadata": {
    "id": "pKdM3lvWVp04"
   },
   "source": [
    "## Sequential Model\n",
    "А как же нам \"прицепить\" один слой к другому? Самый простой способ это сделать -- класс Sequential. Он может быть использован в подавляющем большинстве случаев. Как следует из названия -- он последовательно применяет один слой за другим."
   ]
  },
  {
   "cell_type": "code",
   "execution_count": 9,
   "metadata": {
    "id": "rIzvcz_bWKUQ"
   },
   "outputs": [],
   "source": [
    "model = tf.keras.Sequential()\n",
    "model.add(Dense(10, input_shape=(10,), activation=\"relu\")) # скрытый слой 1\n",
    "model.add(Dense(20, activation=\"relu\", \n",
    "                bias_initializer=tf.keras.initializers.Constant(2.0))) # скрытый слой 2, с не дефолтной инициализацией\n",
    "model.add(Dense(5, activation=\"softmax\")) # выходной слой"
   ]
  },
  {
   "cell_type": "code",
   "execution_count": 10,
   "metadata": {
    "colab": {
     "base_uri": "https://localhost:8080/",
     "height": 71
    },
    "id": "R23hn4AGX1qU",
    "outputId": "5f6dd60e-4f47-4b05-9cc0-571ae810d453"
   },
   "outputs": [
    {
     "name": "stdout",
     "output_type": "stream",
     "text": [
      "tf.Tensor(\n",
      "[[0.5533828  0.00947218 0.00113912 0.01305827 0.42294762]\n",
      " [0.658191   0.00340418 0.00090978 0.01241547 0.32507944]], shape=(2, 5), dtype=float32)\n"
     ]
    }
   ],
   "source": [
    "sample_input = np.random.rand(2, 10)\n",
    "output = model(sample_input)\n",
    "\n",
    "print(output)"
   ]
  },
  {
   "cell_type": "code",
   "execution_count": 11,
   "metadata": {
    "colab": {
     "base_uri": "https://localhost:8080/",
     "height": 35
    },
    "id": "gB7dOb0JsDXm",
    "outputId": "37ace96e-ec50-474f-adb1-0f484722442f"
   },
   "outputs": [
    {
     "name": "stdout",
     "output_type": "stream",
     "text": [
      "[1.         0.99999994]\n"
     ]
    }
   ],
   "source": [
    "print(output.numpy().sum(1)) # на выходе -- софтмакс, значит сумма == 1"
   ]
  },
  {
   "cell_type": "code",
   "execution_count": 12,
   "metadata": {
    "colab": {
     "base_uri": "https://localhost:8080/",
     "height": 53
    },
    "id": "xtjeafdIm77f",
    "outputId": "fab320ef-0725-436c-a680-a3a5dd5f075e"
   },
   "outputs": [
    {
     "data": {
      "text/plain": [
       "array([2., 2., 2., 2., 2., 2., 2., 2., 2., 2., 2., 2., 2., 2., 2., 2., 2.,\n",
       "       2., 2., 2.], dtype=float32)"
      ]
     },
     "execution_count": 12,
     "metadata": {},
     "output_type": "execute_result"
    }
   ],
   "source": [
    "# проверим как инициализирован второй скрытый слой \n",
    "# для этого обратимся к нему с помощью:\n",
    "model.layers[1].get_weights()[1]"
   ]
  },
  {
   "cell_type": "markdown",
   "metadata": {
    "id": "tyU2wwuFZu0f"
   },
   "source": [
    "Есть очень удобная функция, которая подскажет сколько в нашей модели параметров, и какие размерности получены на промежуточных слоях -- model.summary()"
   ]
  },
  {
   "cell_type": "code",
   "execution_count": 13,
   "metadata": {
    "colab": {
     "base_uri": "https://localhost:8080/",
     "height": 269
    },
    "id": "-oK3FEw8Xcg-",
    "outputId": "8d15d07f-f7e3-4b2e-fb58-cc088d9c0931"
   },
   "outputs": [
    {
     "name": "stdout",
     "output_type": "stream",
     "text": [
      "Model: \"sequential\"\n",
      "_________________________________________________________________\n",
      "Layer (type)                 Output Shape              Param #   \n",
      "=================================================================\n",
      "dense_2 (Dense)              (None, 10)                110       \n",
      "_________________________________________________________________\n",
      "dense_3 (Dense)              (None, 20)                220       \n",
      "_________________________________________________________________\n",
      "dense_4 (Dense)              (None, 5)                 105       \n",
      "=================================================================\n",
      "Total params: 435\n",
      "Trainable params: 435\n",
      "Non-trainable params: 0\n",
      "_________________________________________________________________\n"
     ]
    }
   ],
   "source": [
    "model.summary() # None обозначает, что размер батча может быть произвольный"
   ]
  },
  {
   "cell_type": "code",
   "execution_count": 14,
   "metadata": {
    "colab": {
     "base_uri": "https://localhost:8080/",
     "height": 353
    },
    "id": "k_lmvspqMK2z",
    "outputId": "d247496e-d6d0-49ce-f450-adccbabc79ae"
   },
   "outputs": [
    {
     "ename": "ValueError",
     "evalue": "This model has not yet been built. Build the model first by calling `build()` or calling `fit()` with some data, or specify an `input_shape` argument in the first layer(s) for automatic build.",
     "output_type": "error",
     "traceback": [
      "\u001b[0;31m---------------------------------------------------------------------------\u001b[0m",
      "\u001b[0;31mValueError\u001b[0m                                Traceback (most recent call last)",
      "\u001b[0;32m/var/folders/90/7g28nhj571s56gkh2bygckk40000gn/T/ipykernel_5900/4063737570.py\u001b[0m in \u001b[0;36m<module>\u001b[0;34m\u001b[0m\n\u001b[1;32m      5\u001b[0m \u001b[0mmodel_no_input\u001b[0m\u001b[0;34m.\u001b[0m\u001b[0madd\u001b[0m\u001b[0;34m(\u001b[0m\u001b[0mDense\u001b[0m\u001b[0;34m(\u001b[0m\u001b[0;36m5\u001b[0m\u001b[0;34m,\u001b[0m \u001b[0mactivation\u001b[0m\u001b[0;34m=\u001b[0m\u001b[0;34m\"softmax\"\u001b[0m\u001b[0;34m)\u001b[0m\u001b[0;34m)\u001b[0m \u001b[0;31m# выходной слой\u001b[0m\u001b[0;34m\u001b[0m\u001b[0;34m\u001b[0m\u001b[0m\n\u001b[1;32m      6\u001b[0m \u001b[0;34m\u001b[0m\u001b[0m\n\u001b[0;32m----> 7\u001b[0;31m \u001b[0mmodel_no_input\u001b[0m\u001b[0;34m.\u001b[0m\u001b[0msummary\u001b[0m\u001b[0;34m(\u001b[0m\u001b[0;34m)\u001b[0m \u001b[0;31m# None обозначает, что размер батча может быть произвольный\u001b[0m\u001b[0;34m\u001b[0m\u001b[0;34m\u001b[0m\u001b[0m\n\u001b[0m",
      "\u001b[0;32m~/miniforge3/lib/python3.9/site-packages/keras/engine/training.py\u001b[0m in \u001b[0;36msummary\u001b[0;34m(self, line_length, positions, print_fn)\u001b[0m\n\u001b[1;32m   2519\u001b[0m     \"\"\"\n\u001b[1;32m   2520\u001b[0m     \u001b[0;32mif\u001b[0m \u001b[0;32mnot\u001b[0m \u001b[0mself\u001b[0m\u001b[0;34m.\u001b[0m\u001b[0mbuilt\u001b[0m\u001b[0;34m:\u001b[0m\u001b[0;34m\u001b[0m\u001b[0;34m\u001b[0m\u001b[0m\n\u001b[0;32m-> 2521\u001b[0;31m       raise ValueError('This model has not yet been built. '\n\u001b[0m\u001b[1;32m   2522\u001b[0m                        \u001b[0;34m'Build the model first by calling `build()` or calling '\u001b[0m\u001b[0;34m\u001b[0m\u001b[0;34m\u001b[0m\u001b[0m\n\u001b[1;32m   2523\u001b[0m                        \u001b[0;34m'`fit()` with some data, or specify '\u001b[0m\u001b[0;34m\u001b[0m\u001b[0;34m\u001b[0m\u001b[0m\n",
      "\u001b[0;31mValueError\u001b[0m: This model has not yet been built. Build the model first by calling `build()` or calling `fit()` with some data, or specify an `input_shape` argument in the first layer(s) for automatic build."
     ]
    }
   ],
   "source": [
    "# если не указать размер инпута в первом слое, то summary не сработает\n",
    "model_no_input = tf.keras.Sequential()\n",
    "model_no_input.add(Dense(10, activation=\"relu\")) # скрытый слой 1 \n",
    "model_no_input.add(Dense(20, activation=\"relu\"))\n",
    "model_no_input.add(Dense(5, activation=\"softmax\")) # выходной слой\n",
    "\n",
    "model_no_input.summary() # None обозначает, что размер батча может быть произвольный"
   ]
  },
  {
   "cell_type": "markdown",
   "metadata": {
    "id": "0_Ol-4JodNEt"
   },
   "source": [
    "Или для еще более наглядного представления -- tf.keras.utils.plot_model()"
   ]
  },
  {
   "cell_type": "code",
   "execution_count": 15,
   "metadata": {
    "colab": {
     "base_uri": "https://localhost:8080/",
     "height": 423
    },
    "id": "ryR4ECUKdJ-j",
    "outputId": "d6e4d3fd-93e1-4eed-f9dd-03de69cd1dbe"
   },
   "outputs": [
    {
     "name": "stdout",
     "output_type": "stream",
     "text": [
      "('You must install pydot (`pip install pydot`) and install graphviz (see instructions at https://graphviz.gitlab.io/download/) ', 'for plot_model/model_to_dot to work.')\n"
     ]
    }
   ],
   "source": [
    "tf.keras.utils.plot_model(model, show_shapes=True)"
   ]
  },
  {
   "cell_type": "markdown",
   "metadata": {
    "id": "NJqFSayEgwM7"
   },
   "source": [
    "## Functional API\n",
    "Но с помощью Sequential можно представить ограниченное (хоть и часто достаточное на практике) множество моделей. Представьте, что вам пригодилось реализовать такую модель:\n",
    "\n",
    "<img src=\"https://drive.google.com/uc?export=view&id=1-1Bltu3VDEDbTl0liRmfs5Dr3r5NzBCR\" width=600>"
   ]
  },
  {
   "cell_type": "markdown",
   "metadata": {
    "id": "npdEbnEuYLYJ"
   },
   "source": [
    "Реализовать такую модель с помощью Sequential нельзя. Но здесь к нам на помощь приходит Functional API.\n",
    "\n",
    "Для понимания Functional API нужно начать относится к сети как к графу. В таком случае вершины -- слои, а ребра связывают выход одного слоя с входом другого. Иллюстрация выше как раз поможет это сделать.\n",
    "\n",
    "Определять слои в коде мы уже умеем, теперь нужно научиться \"рисовать стрелки\". Для того чтобы это сделать нужно просто применить один слой к выходу другого! Рассмотрим пример ниже."
   ]
  },
  {
   "cell_type": "code",
   "execution_count": 16,
   "metadata": {
    "colab": {
     "base_uri": "https://localhost:8080/",
     "height": 565
    },
    "id": "GlbOvWGKWNq1",
    "outputId": "d1619584-bfe4-4ce4-fbd6-3b39758b67dc"
   },
   "outputs": [
    {
     "name": "stdout",
     "output_type": "stream",
     "text": [
      "('You must install pydot (`pip install pydot`) and install graphviz (see instructions at https://graphviz.gitlab.io/download/) ', 'for plot_model/model_to_dot to work.')\n"
     ]
    }
   ],
   "source": [
    "# cпециальный Инпут слой, показывает keras куда \"положить\" данные при использовании модели\n",
    "input_layer = tf.keras.layers.Input(shape=(10, ), name=\"Input\") \n",
    "l1 = Dense(10, name=\"Layer1\") # определили первый слой\n",
    "l1_output = l1(input_layer) # соеденили его с инпутом, \"нарисовали\" самую правую стрелку на картинке выше\n",
    "\n",
    "l2_output = Dense(10, name=\"Layer2\")(input_layer) # дальше будем определять чуть компактнее\n",
    "l3_output = Dense(10, name=\"Layer3\")(l2_output)\n",
    "l4_output = Dense(10, name=\"Layer4\")(l3_output)\n",
    "\n",
    "l5_output = Dense(10, name=\"Layer5\")(l2_output)\n",
    "\n",
    "# специальный слой, который сложит выходы всех слоев, которые ему передали\n",
    "sum_output = tf.keras.layers.Add(name=\"SumLayer\")([l1_output, l4_output, l5_output])\n",
    "\n",
    "# выходной слой\n",
    "output = Dense(10, name=\"Output\")(sum_output)\n",
    "\n",
    "# создаем модель. нужно показать что мы считаем входом в нашу модель, а что выходом.\n",
    "model = tf.keras.Model(inputs=input_layer, outputs=output)\n",
    "\n",
    "tf.keras.utils.plot_model(model, show_shapes=False)"
   ]
  },
  {
   "cell_type": "code",
   "execution_count": 17,
   "metadata": {
    "colab": {
     "base_uri": "https://localhost:8080/",
     "height": 485
    },
    "id": "zIkK3vhC2s6J",
    "outputId": "5106412d-0750-4683-c3fd-acd0ead6ae87"
   },
   "outputs": [
    {
     "name": "stdout",
     "output_type": "stream",
     "text": [
      "Model: \"model_1\"\n",
      "__________________________________________________________________________________________________\n",
      "Layer (type)                    Output Shape         Param #     Connected to                     \n",
      "==================================================================================================\n",
      "Input (InputLayer)              [(None, 10)]         0                                            \n",
      "__________________________________________________________________________________________________\n",
      "Layer2 (Dense)                  (None, 10)           110         Input[0][0]                      \n",
      "__________________________________________________________________________________________________\n",
      "Layer3 (Dense)                  (None, 10)           110         Layer2[0][0]                     \n",
      "__________________________________________________________________________________________________\n",
      "Layer1 (Dense)                  (None, 10)           110         Input[0][0]                      \n",
      "__________________________________________________________________________________________________\n",
      "Layer4 (Dense)                  (None, 10)           110         Layer3[0][0]                     \n",
      "__________________________________________________________________________________________________\n",
      "Layer5 (Dense)                  (None, 10)           110         Layer2[0][0]                     \n",
      "__________________________________________________________________________________________________\n",
      "SumLayer (Add)                  (None, 10)           0           Layer1[0][0]                     \n",
      "                                                                 Layer4[0][0]                     \n",
      "                                                                 Layer5[0][0]                     \n",
      "__________________________________________________________________________________________________\n",
      "Output (Dense)                  (None, 10)           110         SumLayer[0][0]                   \n",
      "==================================================================================================\n",
      "Total params: 660\n",
      "Trainable params: 660\n",
      "Non-trainable params: 0\n",
      "__________________________________________________________________________________________________\n"
     ]
    }
   ],
   "source": [
    "model.summary()"
   ]
  },
  {
   "cell_type": "code",
   "execution_count": 20,
   "metadata": {
    "colab": {
     "base_uri": "https://localhost:8080/",
     "height": 423
    },
    "id": "XU_6aG3pYKcb",
    "outputId": "69027707-03b9-478f-bc35-41ae41d84a62"
   },
   "outputs": [
    {
     "name": "stdout",
     "output_type": "stream",
     "text": [
      "('You must install pydot (`pip install pydot`) and install graphviz (see instructions at https://graphviz.gitlab.io/download/) ', 'for plot_model/model_to_dot to work.')\n"
     ]
    }
   ],
   "source": [
    "# если мы укажем в аутпутах слой, для вычисления которого не нужно было считать весь граф -- \n",
    "# keras автоматически обрежет граф. \n",
    "model = tf.keras.Model(inputs=input_layer, outputs=l4_output)\n",
    "\n",
    "tf.keras.utils.plot_model(model, show_shapes=True)"
   ]
  },
  {
   "cell_type": "code",
   "execution_count": 19,
   "metadata": {
    "colab": {
     "base_uri": "https://localhost:8080/",
     "height": 369
    },
    "id": "VzgneLplh2K5",
    "outputId": "bddf7d8e-377d-4128-b69f-47f07406c81e"
   },
   "outputs": [
    {
     "name": "stdout",
     "output_type": "stream",
     "text": [
      "('You must install pydot (`pip install pydot`) and install graphviz (see instructions at https://graphviz.gitlab.io/download/) ', 'for plot_model/model_to_dot to work.')\n"
     ]
    }
   ],
   "source": [
    "# можно указать несколько выходов\n",
    "model = tf.keras.Model(inputs=input_layer, outputs=[l4_output, l5_output, l1_output])\n",
    "\n",
    "tf.keras.utils.plot_model(model, show_shapes=False)"
   ]
  },
  {
   "cell_type": "markdown",
   "metadata": {
    "id": "Ll9WS1fBjzvR"
   },
   "source": [
    "## Заключение\n",
    "\n",
    "Мы познакомились с одним из самых главных объектов в Keras -- модель. И сделали первый шаг -- научились ее определять. \n",
    "\n",
    "Теперь вам не составит труда построить модель самостоятельно по ее описанию. Именно это вы и попробуете сделать на [практике](https://colab.research.google.com/drive/1OFKvrSYHU71O68uXcunQtTFJE4sLZW6E). \n",
    "\n",
    "А как только вы почувствуете себя уверенно, мы перейдем к самому интересному -- обучению модели.\n",
    "\n"
   ]
  }
 ],
 "metadata": {
  "colab": {
   "collapsed_sections": [],
   "name": "3.5 Определение модели в Tensorflow.ipynb",
   "provenance": []
  },
  "kernelspec": {
   "display_name": "Python 3 (ipykernel)",
   "language": "python",
   "name": "python3"
  },
  "language_info": {
   "codemirror_mode": {
    "name": "ipython",
    "version": 3
   },
   "file_extension": ".py",
   "mimetype": "text/x-python",
   "name": "python",
   "nbconvert_exporter": "python",
   "pygments_lexer": "ipython3",
   "version": "3.9.7"
  }
 },
 "nbformat": 4,
 "nbformat_minor": 4
}
