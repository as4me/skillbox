{
 "cells": [
  {
   "cell_type": "markdown",
   "id": "cf401f3c",
   "metadata": {},
   "source": [
    "# Дипломный проект «Data Scientist. Аналитика. Средний уровень»"
   ]
  },
  {
   "cell_type": "markdown",
   "id": "9a4ffa29",
   "metadata": {},
   "source": [
    "## Постановка задачи\n",
    "\n",
    "Как и любой бизнес, компания «Мегафон» хочет повысить удовлетворённость своих клиентов качеством услуг. Это важная задача для удержания пользователей — как давних, так и недавно привлечённых. Ведь затраты на маркетинг и продвижение не оправдаются, если клиент уйдёт из-за низкого качества связи. Однако в реальном мире ресурсы всегда ограничены, и в единицу времени технический отдел может решить конечное количество задач. <br>\n",
    "Чтобы делать это наиболее эффективно, важно определить, какие технические показатели качества связи сильнее всего влияют на удовлетворённость клиентов, и в первую очередь направить ресурсы на работу с ними. Для этого «Мегафон» провёл опрос своих клиентов, предложив им оценить уровень удовлетворённости качеством связи. По каждому клиенту, прошедшему опрос, были собраны технические показатели. <br>\n",
    "Подготовьте исследование для компании «Мегафон» и проанализируйте, как зависит (и зависит ли) оценка, которую ставит клиент в опросе, от технических показателей, которые были собраны. <br><br><br>\n",
    "\n",
    "**Более подробно о проведённом опросе:**\n",
    "\n",
    "В ходе опроса компания «Мегафон» предложила своим клиентам оценить уровень удовлетворённости качеством связи по десятибалльной шкале (где 10 — это «отлично», а 1 — «ужасно»). Если клиент оценивал качество связи на 9 или 10 баллов, опрос заканчивался. Если клиент ставил оценку ниже 9, задавался второй вопрос — о причинах неудовлетворённости качеством связи с предоставленными пронумерованными вариантами ответа. Ответ можно было дать в свободном формате или перечислить номера ответов через запятую. Ниже вы можете ознакомиться с инфографикой по структуре опроса.<br>\n",
    "\n",
    "*Обратите, пожалуйста, внимание, что для работы вам даны реальные данные, что может повлечь необходимость в дополнительной их обработке.*"
   ]
  },
  {
   "cell_type": "markdown",
   "id": "538b3953",
   "metadata": {},
   "source": [
    "![](https://sun9-32.userapi.com/C6vN5pHQW7hlseIt0AtTN7qNDQbDnHXdt1P2NA/ILntXqa-RrA.jpg)"
   ]
  },
  {
   "cell_type": "markdown",
   "id": "67483641",
   "metadata": {},
   "source": [
    "[1. Описание данных]()"
   ]
  },
  {
   "cell_type": "markdown",
   "id": "a72d88cc",
   "metadata": {},
   "source": [
    "## 1. Описание данных"
   ]
  },
  {
   "cell_type": "markdown",
   "id": "0f0f325d",
   "metadata": {},
   "source": [
    "## Codebook\n",
    "\n",
    "`megafon.csv` содержит следующие значения: <br><br>\n",
    "&nbsp;&nbsp;&nbsp;&nbsp; `user_id` — идентификатор абонента;<br>\n",
    "&nbsp;&nbsp;&nbsp;&nbsp; `Q1` — ответ на первый вопрос;<br>\n",
    "&nbsp;&nbsp;&nbsp;&nbsp; `Q2` — ответ на второй вопрос;<br>\n",
    "&nbsp;&nbsp;&nbsp;&nbsp; `Total Traffic(MB)` — объем трафика передачи данных <sup>1 </sup>; <br>\n",
    "&nbsp;&nbsp;&nbsp;&nbsp; `Downlink Throughput(Kbps)` — средняя скорость «к абоненту» <sup>2 </sup>;<br>\n",
    "&nbsp;&nbsp;&nbsp;&nbsp; `Uplink Throughput(Kbps)`— средняя скорость «от абонента» <sup>3 </sup>;<br>\n",
    "&nbsp;&nbsp;&nbsp;&nbsp; `Downlink TCP Retransmission Rate(%)` — частота переотправок пакетов «к абоненту» <sup>4 </sup>;<br>\n",
    "&nbsp;&nbsp;&nbsp;&nbsp; `Video Streaming Download Throughput(Kbps)` — скорость загрузки потокового видео <sup>5 </sup>;<br>\n",
    "&nbsp;&nbsp;&nbsp;&nbsp; `Video Streaming xKB Start Delay(ms)` — задержка старта воспроизведения видео <sup>6 </sup>;<br>\n",
    "&nbsp;&nbsp;&nbsp;&nbsp; `Web Page Download Throughput(Kbps)` — скорость загрузки web-страниц через браузер <sup>7 </sup>;<br>\n",
    "&nbsp;&nbsp;&nbsp;&nbsp; `Web Average TCP RTT(ms)` — пинг при просмотре web-страниц<sup>8 </sup>.<br>\n",
    "\n",
    "\n",
    "<sup>1 </sup> — Насколько активно абонент использует мобильный интернет.<br>\n",
    "<sup>2 </sup> — Считается по всему трафику передачи данных.<br>\n",
    "<sup>3 </sup> — Считается по всему трафику передачи данных.<br>\n",
    "<sup>4 </sup> — Чем выше, тем хуже. Если в канале возникает ошибка, пакет переотправляется. Снижается полезная скорость.<br>\n",
    "<sup>5 </sup> — Чем выше, тем лучше — меньше прерываний и лучше качество картинки.<br>\n",
    "<sup>6 </sup> — Сколько времени пройдёт между нажатием на кнопку Play и началом воспроизведения видео. Чем меньше это время, тем быстрее начинается воспроизведение.<br>\n",
    "<sup>7 </sup> — Чем выше, тем лучше.<br>\n",
    "<sup>8 </sup> — Чем меньше, тем лучше — быстрее загружаются web-страницы.<br>\n",
    "\n",
    "Первый технический показатель представлен как сумма за период в одну неделю перед участием в опросе. Остальные технические показатели отображают среднее значение по данному признаку за период в одну неделю перед участием в опросе."
   ]
  },
  {
   "cell_type": "code",
   "execution_count": 1,
   "id": "c4df8f40",
   "metadata": {},
   "outputs": [],
   "source": [
    "import pandas as pd\n",
    "import numpy as np\n",
    "import scipy.stats as st\n",
    "\n",
    "import plotly.graph_objects as go\n",
    "import plotly.express as px\n",
    "import ast\n",
    "\n"
   ]
  },
  {
   "cell_type": "code",
   "execution_count": 2,
   "id": "1cf46309",
   "metadata": {},
   "outputs": [],
   "source": [
    "df = pd.read_csv('./megafon.csv',sep=',')"
   ]
  },
  {
   "cell_type": "code",
   "execution_count": 4,
   "id": "c07919f0",
   "metadata": {},
   "outputs": [
    {
     "data": {
      "text/html": [
       "<div>\n",
       "<style scoped>\n",
       "    .dataframe tbody tr th:only-of-type {\n",
       "        vertical-align: middle;\n",
       "    }\n",
       "\n",
       "    .dataframe tbody tr th {\n",
       "        vertical-align: top;\n",
       "    }\n",
       "\n",
       "    .dataframe thead th {\n",
       "        text-align: right;\n",
       "    }\n",
       "</style>\n",
       "<table border=\"1\" class=\"dataframe\">\n",
       "  <thead>\n",
       "    <tr style=\"text-align: right;\">\n",
       "      <th></th>\n",
       "      <th>user_id</th>\n",
       "      <th>Q1</th>\n",
       "      <th>Q2</th>\n",
       "      <th>Total Traffic(MB)</th>\n",
       "      <th>Downlink Throughput(Kbps)</th>\n",
       "      <th>Uplink Throughput(Kbps)</th>\n",
       "      <th>Downlink TCP Retransmission Rate(%)</th>\n",
       "      <th>Video Streaming Download Throughput(Kbps)</th>\n",
       "      <th>Video Streaming xKB Start Delay(ms)</th>\n",
       "      <th>Web Page Download Throughput(Kbps)</th>\n",
       "      <th>Web Average TCP RTT(ms)</th>\n",
       "    </tr>\n",
       "  </thead>\n",
       "  <tbody>\n",
       "    <tr>\n",
       "      <th>0</th>\n",
       "      <td>1</td>\n",
       "      <td>5</td>\n",
       "      <td>NaN</td>\n",
       "      <td>775.48846</td>\n",
       "      <td>360.13</td>\n",
       "      <td>86.56</td>\n",
       "      <td>3.93</td>\n",
       "      <td>1859.15</td>\n",
       "      <td>2309</td>\n",
       "      <td>1007.82</td>\n",
       "      <td>83</td>\n",
       "    </tr>\n",
       "    <tr>\n",
       "      <th>1</th>\n",
       "      <td>2</td>\n",
       "      <td>5</td>\n",
       "      <td>4</td>\n",
       "      <td>861.96324</td>\n",
       "      <td>3023.54</td>\n",
       "      <td>411.18</td>\n",
       "      <td>1.27</td>\n",
       "      <td>667.47</td>\n",
       "      <td>2080</td>\n",
       "      <td>255.36</td>\n",
       "      <td>425</td>\n",
       "    </tr>\n",
       "    <tr>\n",
       "      <th>2</th>\n",
       "      <td>3</td>\n",
       "      <td>1</td>\n",
       "      <td>4</td>\n",
       "      <td>261.11860</td>\n",
       "      <td>790.96</td>\n",
       "      <td>34.20</td>\n",
       "      <td>1.79</td>\n",
       "      <td>1079.60</td>\n",
       "      <td>6367</td>\n",
       "      <td>535.85</td>\n",
       "      <td>485</td>\n",
       "    </tr>\n",
       "    <tr>\n",
       "      <th>3</th>\n",
       "      <td>4</td>\n",
       "      <td>8</td>\n",
       "      <td>3</td>\n",
       "      <td>179.18564</td>\n",
       "      <td>2590.97</td>\n",
       "      <td>325.88</td>\n",
       "      <td>0.80</td>\n",
       "      <td>7053.81</td>\n",
       "      <td>3218</td>\n",
       "      <td>1221.02</td>\n",
       "      <td>51</td>\n",
       "    </tr>\n",
       "    <tr>\n",
       "      <th>4</th>\n",
       "      <td>5</td>\n",
       "      <td>2</td>\n",
       "      <td>2, 3, 4</td>\n",
       "      <td>351.99208</td>\n",
       "      <td>731.61</td>\n",
       "      <td>223.54</td>\n",
       "      <td>1.15</td>\n",
       "      <td>4550.38</td>\n",
       "      <td>1767</td>\n",
       "      <td>2336.56</td>\n",
       "      <td>68</td>\n",
       "    </tr>\n",
       "    <tr>\n",
       "      <th>5</th>\n",
       "      <td>6</td>\n",
       "      <td>3</td>\n",
       "      <td>NaN</td>\n",
       "      <td>416.67461</td>\n",
       "      <td>1346.89</td>\n",
       "      <td>175.53</td>\n",
       "      <td>1.08</td>\n",
       "      <td>4553.01</td>\n",
       "      <td>2136</td>\n",
       "      <td>1587.58</td>\n",
       "      <td>551</td>\n",
       "    </tr>\n",
       "    <tr>\n",
       "      <th>6</th>\n",
       "      <td>7</td>\n",
       "      <td>2</td>\n",
       "      <td>4, 5</td>\n",
       "      <td>448.88413</td>\n",
       "      <td>438.27</td>\n",
       "      <td>81.32</td>\n",
       "      <td>1.98</td>\n",
       "      <td>1699.64</td>\n",
       "      <td>4223</td>\n",
       "      <td>856.05</td>\n",
       "      <td>220</td>\n",
       "    </tr>\n",
       "    <tr>\n",
       "      <th>7</th>\n",
       "      <td>8</td>\n",
       "      <td>9</td>\n",
       "      <td>NaN</td>\n",
       "      <td>550.44581</td>\n",
       "      <td>3428.69</td>\n",
       "      <td>164.44</td>\n",
       "      <td>1.05</td>\n",
       "      <td>16753.96</td>\n",
       "      <td>1061</td>\n",
       "      <td>3037.36</td>\n",
       "      <td>88</td>\n",
       "    </tr>\n",
       "    <tr>\n",
       "      <th>8</th>\n",
       "      <td>9</td>\n",
       "      <td>1</td>\n",
       "      <td>1, 3, 4</td>\n",
       "      <td>783.64464</td>\n",
       "      <td>1786.99</td>\n",
       "      <td>271.77</td>\n",
       "      <td>0.84</td>\n",
       "      <td>6802.42</td>\n",
       "      <td>1200</td>\n",
       "      <td>1837.02</td>\n",
       "      <td>132</td>\n",
       "    </tr>\n",
       "    <tr>\n",
       "      <th>9</th>\n",
       "      <td>10</td>\n",
       "      <td>3</td>\n",
       "      <td>1, 3, 4, 5</td>\n",
       "      <td>455.97369</td>\n",
       "      <td>610.43</td>\n",
       "      <td>81.86</td>\n",
       "      <td>4.10</td>\n",
       "      <td>1317.76</td>\n",
       "      <td>3350</td>\n",
       "      <td>1054.15</td>\n",
       "      <td>165</td>\n",
       "    </tr>\n",
       "  </tbody>\n",
       "</table>\n",
       "</div>"
      ],
      "text/plain": [
       "   user_id Q1          Q2  Total Traffic(MB)  Downlink Throughput(Kbps)  \\\n",
       "0        1  5         NaN          775.48846                     360.13   \n",
       "1        2  5           4          861.96324                    3023.54   \n",
       "2        3  1           4          261.11860                     790.96   \n",
       "3        4  8           3          179.18564                    2590.97   \n",
       "4        5  2     2, 3, 4          351.99208                     731.61   \n",
       "5        6  3         NaN          416.67461                    1346.89   \n",
       "6        7  2        4, 5          448.88413                     438.27   \n",
       "7        8  9         NaN          550.44581                    3428.69   \n",
       "8        9  1     1, 3, 4          783.64464                    1786.99   \n",
       "9       10  3  1, 3, 4, 5          455.97369                     610.43   \n",
       "\n",
       "   Uplink Throughput(Kbps)  Downlink TCP Retransmission Rate(%)  \\\n",
       "0                    86.56                                 3.93   \n",
       "1                   411.18                                 1.27   \n",
       "2                    34.20                                 1.79   \n",
       "3                   325.88                                 0.80   \n",
       "4                   223.54                                 1.15   \n",
       "5                   175.53                                 1.08   \n",
       "6                    81.32                                 1.98   \n",
       "7                   164.44                                 1.05   \n",
       "8                   271.77                                 0.84   \n",
       "9                    81.86                                 4.10   \n",
       "\n",
       "   Video Streaming Download Throughput(Kbps)  \\\n",
       "0                                    1859.15   \n",
       "1                                     667.47   \n",
       "2                                    1079.60   \n",
       "3                                    7053.81   \n",
       "4                                    4550.38   \n",
       "5                                    4553.01   \n",
       "6                                    1699.64   \n",
       "7                                   16753.96   \n",
       "8                                    6802.42   \n",
       "9                                    1317.76   \n",
       "\n",
       "   Video Streaming xKB Start Delay(ms)  Web Page Download Throughput(Kbps)  \\\n",
       "0                                 2309                             1007.82   \n",
       "1                                 2080                              255.36   \n",
       "2                                 6367                              535.85   \n",
       "3                                 3218                             1221.02   \n",
       "4                                 1767                             2336.56   \n",
       "5                                 2136                             1587.58   \n",
       "6                                 4223                              856.05   \n",
       "7                                 1061                             3037.36   \n",
       "8                                 1200                             1837.02   \n",
       "9                                 3350                             1054.15   \n",
       "\n",
       "   Web Average TCP RTT(ms)  \n",
       "0                       83  \n",
       "1                      425  \n",
       "2                      485  \n",
       "3                       51  \n",
       "4                       68  \n",
       "5                      551  \n",
       "6                      220  \n",
       "7                       88  \n",
       "8                      132  \n",
       "9                      165  "
      ]
     },
     "execution_count": 4,
     "metadata": {},
     "output_type": "execute_result"
    }
   ],
   "source": [
    "df.head(10)"
   ]
  },
  {
   "cell_type": "code",
   "execution_count": 5,
   "id": "6fe0104b",
   "metadata": {},
   "outputs": [
    {
     "data": {
      "text/plain": [
       "(3112, 11)"
      ]
     },
     "execution_count": 5,
     "metadata": {},
     "output_type": "execute_result"
    }
   ],
   "source": [
    "df.shape"
   ]
  },
  {
   "cell_type": "code",
   "execution_count": 6,
   "id": "269a44ac",
   "metadata": {},
   "outputs": [],
   "source": [
    "df = df.drop_duplicates()"
   ]
  },
  {
   "cell_type": "code",
   "execution_count": 7,
   "id": "b465ab7f",
   "metadata": {},
   "outputs": [
    {
     "data": {
      "text/plain": [
       "(3112, 11)"
      ]
     },
     "execution_count": 7,
     "metadata": {},
     "output_type": "execute_result"
    }
   ],
   "source": [
    "df.shape"
   ]
  },
  {
   "cell_type": "code",
   "execution_count": 7,
   "id": "1cbca46b",
   "metadata": {},
   "outputs": [
    {
     "name": "stdout",
     "output_type": "stream",
     "text": [
      "<class 'pandas.core.frame.DataFrame'>\n",
      "Int64Index: 3112 entries, 0 to 3111\n",
      "Data columns (total 11 columns):\n",
      " #   Column                                     Non-Null Count  Dtype  \n",
      "---  ------                                     --------------  -----  \n",
      " 0   user_id                                    3112 non-null   int64  \n",
      " 1   Q1                                         3110 non-null   object \n",
      " 2   Q2                                         1315 non-null   object \n",
      " 3   Total Traffic(MB)                          3112 non-null   float64\n",
      " 4   Downlink Throughput(Kbps)                  3112 non-null   float64\n",
      " 5   Uplink Throughput(Kbps)                    3112 non-null   float64\n",
      " 6   Downlink TCP Retransmission Rate(%)        3112 non-null   float64\n",
      " 7   Video Streaming Download Throughput(Kbps)  3112 non-null   float64\n",
      " 8   Video Streaming xKB Start Delay(ms)        3112 non-null   int64  \n",
      " 9   Web Page Download Throughput(Kbps)         3112 non-null   float64\n",
      " 10  Web Average TCP RTT(ms)                    3112 non-null   int64  \n",
      "dtypes: float64(6), int64(3), object(2)\n",
      "memory usage: 291.8+ KB\n"
     ]
    }
   ],
   "source": [
    "df.info()"
   ]
  },
  {
   "cell_type": "code",
   "execution_count": 8,
   "id": "71d3198b",
   "metadata": {},
   "outputs": [
    {
     "data": {
      "text/plain": [
       "array(['5', '1', '8', '2', '3', '9', '10', '7', '4', '11', '6', '2, 9',\n",
       "       '0', '1, 3', '19', '15', nan, '1, 6', '***** ** ***',\n",
       "       '3 - дер.Ширяево Волоколамского района, 9 - в Москве', '10, 9',\n",
       "       'Чем даль ше,тем лучше.Спасибо за ваш труд.Оценка 10 !',\n",
       "       'ОЦЕНКА-3/НЕВАЖНО/', 'Отвратительно',\n",
       "       'Я ценой услуг не удовлетворен', 'Пока не понял', '3, 9', '5, 6',\n",
       "       '0, 1, 5', '5, 7', 'Hi',\n",
       "       '4. Тульская область Заокский район. Романовские дачи связи почти нет',\n",
       "       'Немагу дать атценку денги незашто снимаеть скоро выклучаю',\n",
       "       '10, 50',\n",
       "       'Очень  хорошо. Обслуживания  я довольно. Спасибо вам.555', '?',\n",
       "       'Поохое',\n",
       "       'Когда в Москве-10 а когда в калужской области в деревне Бели-1',\n",
       "       'Нет', 'Да', 'Ужасно',\n",
       "       '3 тройка, связь отвратительная, жалко платить за такой тарив',\n",
       "       'Чдтчдтччдтччч', '3, 7', '20, 89031081392', '1, 8', 'Без з',\n",
       "       '10, 5', '2, 5',\n",
       "       'Я в Смол. Области живу сейчас, не пользуюсь телефоном совсем'],\n",
       "      dtype=object)"
      ]
     },
     "execution_count": 8,
     "metadata": {},
     "output_type": "execute_result"
    }
   ],
   "source": [
    "# список ответов клиентов на первый вопрос\n",
    "df['Q1'].unique()"
   ]
  },
  {
   "cell_type": "code",
   "execution_count": 9,
   "id": "0a6e5223",
   "metadata": {},
   "outputs": [
    {
     "data": {
      "text/plain": [
       "array([nan, '4', '3', '2, 3, 4', '4, 5', '1, 3, 4', '1, 3, 4, 5', '1, 3',\n",
       "       '3, 4', '1, 2', '3, 5', '1', '7', '1, 4', '1, 2, 3, 4, 5', '2, 3',\n",
       "       '1, 2, 3, 4', '2, 3, 4, 5', '3, 4, 5', '1, 2, 5', '1, 5',\n",
       "       '1, 2, 4', '6', '1, 4, 5', '1, 2, 3', '2, 5', '2, 4, 5', '1, 2, 7',\n",
       "       '5', '2', '1, 2, 3, 4, 5, 6', '0, 1, 7', '4, 7', '1, 4, 7', '0, 3',\n",
       "       '1, 3, 4, 5, 7', '3, 7', '1, 3, 4, 7', '3, 4, 5, 7', '2, 4',\n",
       "       '5, 6', '1, 2, 3, 5', '1, 3, 5', '1, 2, 34', '1, 2, 4, 5',\n",
       "       '0, 05, 2, 27, 7', '1, 3, 7', '3, 4, 7', '1, 2, 3, 4, 7', '10',\n",
       "       '0', '1, 2, 3, 7'], dtype=object)"
      ]
     },
     "execution_count": 9,
     "metadata": {},
     "output_type": "execute_result"
    }
   ],
   "source": [
    "# список ответов клиентов на второй вопрос\n",
    "df['Q2'].unique()"
   ]
  },
  {
   "cell_type": "code",
   "execution_count": 10,
   "id": "2cb73541",
   "metadata": {
    "tags": []
   },
   "outputs": [
    {
     "data": {
      "text/html": [
       "<div>\n",
       "<style scoped>\n",
       "    .dataframe tbody tr th:only-of-type {\n",
       "        vertical-align: middle;\n",
       "    }\n",
       "\n",
       "    .dataframe tbody tr th {\n",
       "        vertical-align: top;\n",
       "    }\n",
       "\n",
       "    .dataframe thead th {\n",
       "        text-align: right;\n",
       "    }\n",
       "</style>\n",
       "<table border=\"1\" class=\"dataframe\">\n",
       "  <thead>\n",
       "    <tr style=\"text-align: right;\">\n",
       "      <th></th>\n",
       "      <th>user_id</th>\n",
       "      <th>Total Traffic(MB)</th>\n",
       "      <th>Downlink Throughput(Kbps)</th>\n",
       "      <th>Uplink Throughput(Kbps)</th>\n",
       "      <th>Downlink TCP Retransmission Rate(%)</th>\n",
       "      <th>Video Streaming Download Throughput(Kbps)</th>\n",
       "      <th>Video Streaming xKB Start Delay(ms)</th>\n",
       "      <th>Web Page Download Throughput(Kbps)</th>\n",
       "      <th>Web Average TCP RTT(ms)</th>\n",
       "    </tr>\n",
       "  </thead>\n",
       "  <tbody>\n",
       "    <tr>\n",
       "      <th>count</th>\n",
       "      <td>3112.000000</td>\n",
       "      <td>3112.000000</td>\n",
       "      <td>3112.000000</td>\n",
       "      <td>3112.000000</td>\n",
       "      <td>3112.000000</td>\n",
       "      <td>3112.000000</td>\n",
       "      <td>3112.000000</td>\n",
       "      <td>3112.000000</td>\n",
       "      <td>3112.000000</td>\n",
       "    </tr>\n",
       "    <tr>\n",
       "      <th>mean</th>\n",
       "      <td>1556.500000</td>\n",
       "      <td>406.282339</td>\n",
       "      <td>2220.774023</td>\n",
       "      <td>170.702381</td>\n",
       "      <td>1.834518</td>\n",
       "      <td>5728.806848</td>\n",
       "      <td>2107.596080</td>\n",
       "      <td>2100.258901</td>\n",
       "      <td>194.195051</td>\n",
       "    </tr>\n",
       "    <tr>\n",
       "      <th>std</th>\n",
       "      <td>898.501345</td>\n",
       "      <td>220.593815</td>\n",
       "      <td>2629.824405</td>\n",
       "      <td>204.031286</td>\n",
       "      <td>2.074593</td>\n",
       "      <td>5161.475235</td>\n",
       "      <td>1582.423057</td>\n",
       "      <td>2062.509549</td>\n",
       "      <td>267.387914</td>\n",
       "    </tr>\n",
       "    <tr>\n",
       "      <th>min</th>\n",
       "      <td>1.000000</td>\n",
       "      <td>100.026680</td>\n",
       "      <td>13.260000</td>\n",
       "      <td>6.110000</td>\n",
       "      <td>0.050000</td>\n",
       "      <td>0.000000</td>\n",
       "      <td>239.000000</td>\n",
       "      <td>0.000000</td>\n",
       "      <td>0.000000</td>\n",
       "    </tr>\n",
       "    <tr>\n",
       "      <th>25%</th>\n",
       "      <td>778.750000</td>\n",
       "      <td>214.261192</td>\n",
       "      <td>652.297500</td>\n",
       "      <td>70.735000</td>\n",
       "      <td>0.720000</td>\n",
       "      <td>2324.550000</td>\n",
       "      <td>1280.000000</td>\n",
       "      <td>1018.002500</td>\n",
       "      <td>74.000000</td>\n",
       "    </tr>\n",
       "    <tr>\n",
       "      <th>50%</th>\n",
       "      <td>1556.500000</td>\n",
       "      <td>363.999720</td>\n",
       "      <td>1404.230000</td>\n",
       "      <td>119.435000</td>\n",
       "      <td>1.300000</td>\n",
       "      <td>4436.500000</td>\n",
       "      <td>1672.000000</td>\n",
       "      <td>1670.695000</td>\n",
       "      <td>118.000000</td>\n",
       "    </tr>\n",
       "    <tr>\n",
       "      <th>75%</th>\n",
       "      <td>2334.250000</td>\n",
       "      <td>572.524325</td>\n",
       "      <td>2823.645000</td>\n",
       "      <td>210.617500</td>\n",
       "      <td>2.240000</td>\n",
       "      <td>7611.440000</td>\n",
       "      <td>2312.000000</td>\n",
       "      <td>2519.987500</td>\n",
       "      <td>207.000000</td>\n",
       "    </tr>\n",
       "    <tr>\n",
       "      <th>max</th>\n",
       "      <td>3112.000000</td>\n",
       "      <td>887.078270</td>\n",
       "      <td>39817.640000</td>\n",
       "      <td>4141.850000</td>\n",
       "      <td>31.200000</td>\n",
       "      <td>58566.030000</td>\n",
       "      <td>21392.000000</td>\n",
       "      <td>35603.970000</td>\n",
       "      <td>3471.000000</td>\n",
       "    </tr>\n",
       "  </tbody>\n",
       "</table>\n",
       "</div>"
      ],
      "text/plain": [
       "           user_id  Total Traffic(MB)  Downlink Throughput(Kbps)  \\\n",
       "count  3112.000000        3112.000000                3112.000000   \n",
       "mean   1556.500000         406.282339                2220.774023   \n",
       "std     898.501345         220.593815                2629.824405   \n",
       "min       1.000000         100.026680                  13.260000   \n",
       "25%     778.750000         214.261192                 652.297500   \n",
       "50%    1556.500000         363.999720                1404.230000   \n",
       "75%    2334.250000         572.524325                2823.645000   \n",
       "max    3112.000000         887.078270               39817.640000   \n",
       "\n",
       "       Uplink Throughput(Kbps)  Downlink TCP Retransmission Rate(%)  \\\n",
       "count              3112.000000                          3112.000000   \n",
       "mean                170.702381                             1.834518   \n",
       "std                 204.031286                             2.074593   \n",
       "min                   6.110000                             0.050000   \n",
       "25%                  70.735000                             0.720000   \n",
       "50%                 119.435000                             1.300000   \n",
       "75%                 210.617500                             2.240000   \n",
       "max                4141.850000                            31.200000   \n",
       "\n",
       "       Video Streaming Download Throughput(Kbps)  \\\n",
       "count                                3112.000000   \n",
       "mean                                 5728.806848   \n",
       "std                                  5161.475235   \n",
       "min                                     0.000000   \n",
       "25%                                  2324.550000   \n",
       "50%                                  4436.500000   \n",
       "75%                                  7611.440000   \n",
       "max                                 58566.030000   \n",
       "\n",
       "       Video Streaming xKB Start Delay(ms)  \\\n",
       "count                          3112.000000   \n",
       "mean                           2107.596080   \n",
       "std                            1582.423057   \n",
       "min                             239.000000   \n",
       "25%                            1280.000000   \n",
       "50%                            1672.000000   \n",
       "75%                            2312.000000   \n",
       "max                           21392.000000   \n",
       "\n",
       "       Web Page Download Throughput(Kbps)  Web Average TCP RTT(ms)  \n",
       "count                         3112.000000              3112.000000  \n",
       "mean                          2100.258901               194.195051  \n",
       "std                           2062.509549               267.387914  \n",
       "min                              0.000000                 0.000000  \n",
       "25%                           1018.002500                74.000000  \n",
       "50%                           1670.695000               118.000000  \n",
       "75%                           2519.987500               207.000000  \n",
       "max                          35603.970000              3471.000000  "
      ]
     },
     "execution_count": 10,
     "metadata": {},
     "output_type": "execute_result"
    }
   ],
   "source": [
    "df.describe()"
   ]
  },
  {
   "cell_type": "code",
   "execution_count": 10,
   "id": "0065ef71",
   "metadata": {
    "tags": []
   },
   "outputs": [
    {
     "data": {
      "text/plain": [
       "[5, 1, 8, 2, 3, 9, 10, 7, 4, 6]"
      ]
     },
     "execution_count": 10,
     "metadata": {},
     "output_type": "execute_result"
    }
   ],
   "source": [
    "correct_ans = ['1', '2', '3', '4', '5', '6', '7', '8', '9', '10']\n",
    "df = df.loc[df['Q1'].isin(correct_ans)]\n",
    "df['Q1'] = df['Q1'].astype(int)\n",
    "df['Q1'].unique().tolist()"
   ]
  },
  {
   "cell_type": "code",
   "execution_count": 12,
   "id": "a8d137b7-bd6f-4aa5-95e3-c23341214e31",
   "metadata": {},
   "outputs": [
    {
     "data": {
      "text/html": [
       "<div>\n",
       "<style scoped>\n",
       "    .dataframe tbody tr th:only-of-type {\n",
       "        vertical-align: middle;\n",
       "    }\n",
       "\n",
       "    .dataframe tbody tr th {\n",
       "        vertical-align: top;\n",
       "    }\n",
       "\n",
       "    .dataframe thead th {\n",
       "        text-align: right;\n",
       "    }\n",
       "</style>\n",
       "<table border=\"1\" class=\"dataframe\">\n",
       "  <thead>\n",
       "    <tr style=\"text-align: right;\">\n",
       "      <th></th>\n",
       "      <th>user_id</th>\n",
       "      <th>Q1</th>\n",
       "      <th>Q2</th>\n",
       "      <th>Total Traffic(MB)</th>\n",
       "      <th>Downlink Throughput(Kbps)</th>\n",
       "      <th>Uplink Throughput(Kbps)</th>\n",
       "      <th>Downlink TCP Retransmission Rate(%)</th>\n",
       "      <th>Video Streaming Download Throughput(Kbps)</th>\n",
       "      <th>Video Streaming xKB Start Delay(ms)</th>\n",
       "      <th>Web Page Download Throughput(Kbps)</th>\n",
       "      <th>Web Average TCP RTT(ms)</th>\n",
       "    </tr>\n",
       "  </thead>\n",
       "  <tbody>\n",
       "    <tr>\n",
       "      <th>0</th>\n",
       "      <td>1</td>\n",
       "      <td>5</td>\n",
       "      <td>NaN</td>\n",
       "      <td>775.48846</td>\n",
       "      <td>360.13</td>\n",
       "      <td>86.56</td>\n",
       "      <td>3.93</td>\n",
       "      <td>1859.15</td>\n",
       "      <td>2309</td>\n",
       "      <td>1007.82</td>\n",
       "      <td>83</td>\n",
       "    </tr>\n",
       "    <tr>\n",
       "      <th>1</th>\n",
       "      <td>2</td>\n",
       "      <td>5</td>\n",
       "      <td>4</td>\n",
       "      <td>861.96324</td>\n",
       "      <td>3023.54</td>\n",
       "      <td>411.18</td>\n",
       "      <td>1.27</td>\n",
       "      <td>667.47</td>\n",
       "      <td>2080</td>\n",
       "      <td>255.36</td>\n",
       "      <td>425</td>\n",
       "    </tr>\n",
       "    <tr>\n",
       "      <th>2</th>\n",
       "      <td>3</td>\n",
       "      <td>1</td>\n",
       "      <td>4</td>\n",
       "      <td>261.11860</td>\n",
       "      <td>790.96</td>\n",
       "      <td>34.20</td>\n",
       "      <td>1.79</td>\n",
       "      <td>1079.60</td>\n",
       "      <td>6367</td>\n",
       "      <td>535.85</td>\n",
       "      <td>485</td>\n",
       "    </tr>\n",
       "    <tr>\n",
       "      <th>3</th>\n",
       "      <td>4</td>\n",
       "      <td>8</td>\n",
       "      <td>3</td>\n",
       "      <td>179.18564</td>\n",
       "      <td>2590.97</td>\n",
       "      <td>325.88</td>\n",
       "      <td>0.80</td>\n",
       "      <td>7053.81</td>\n",
       "      <td>3218</td>\n",
       "      <td>1221.02</td>\n",
       "      <td>51</td>\n",
       "    </tr>\n",
       "    <tr>\n",
       "      <th>4</th>\n",
       "      <td>5</td>\n",
       "      <td>2</td>\n",
       "      <td>2, 3, 4</td>\n",
       "      <td>351.99208</td>\n",
       "      <td>731.61</td>\n",
       "      <td>223.54</td>\n",
       "      <td>1.15</td>\n",
       "      <td>4550.38</td>\n",
       "      <td>1767</td>\n",
       "      <td>2336.56</td>\n",
       "      <td>68</td>\n",
       "    </tr>\n",
       "    <tr>\n",
       "      <th>...</th>\n",
       "      <td>...</td>\n",
       "      <td>...</td>\n",
       "      <td>...</td>\n",
       "      <td>...</td>\n",
       "      <td>...</td>\n",
       "      <td>...</td>\n",
       "      <td>...</td>\n",
       "      <td>...</td>\n",
       "      <td>...</td>\n",
       "      <td>...</td>\n",
       "      <td>...</td>\n",
       "    </tr>\n",
       "    <tr>\n",
       "      <th>3107</th>\n",
       "      <td>3108</td>\n",
       "      <td>3</td>\n",
       "      <td>1, 4, 5</td>\n",
       "      <td>519.96475</td>\n",
       "      <td>1045.70</td>\n",
       "      <td>44.61</td>\n",
       "      <td>0.47</td>\n",
       "      <td>4523.66</td>\n",
       "      <td>1468</td>\n",
       "      <td>1044.66</td>\n",
       "      <td>304</td>\n",
       "    </tr>\n",
       "    <tr>\n",
       "      <th>3108</th>\n",
       "      <td>3109</td>\n",
       "      <td>3</td>\n",
       "      <td>1, 3, 4, 5</td>\n",
       "      <td>171.52629</td>\n",
       "      <td>670.32</td>\n",
       "      <td>40.94</td>\n",
       "      <td>2.35</td>\n",
       "      <td>1711.54</td>\n",
       "      <td>2780</td>\n",
       "      <td>954.91</td>\n",
       "      <td>251</td>\n",
       "    </tr>\n",
       "    <tr>\n",
       "      <th>3109</th>\n",
       "      <td>3110</td>\n",
       "      <td>10</td>\n",
       "      <td>NaN</td>\n",
       "      <td>187.44936</td>\n",
       "      <td>590.29</td>\n",
       "      <td>186.36</td>\n",
       "      <td>2.06</td>\n",
       "      <td>3182.83</td>\n",
       "      <td>2195</td>\n",
       "      <td>1094.62</td>\n",
       "      <td>109</td>\n",
       "    </tr>\n",
       "    <tr>\n",
       "      <th>3110</th>\n",
       "      <td>3111</td>\n",
       "      <td>6</td>\n",
       "      <td>1, 3</td>\n",
       "      <td>827.74515</td>\n",
       "      <td>1841.90</td>\n",
       "      <td>373.53</td>\n",
       "      <td>1.21</td>\n",
       "      <td>5675.93</td>\n",
       "      <td>1905</td>\n",
       "      <td>2361.88</td>\n",
       "      <td>202</td>\n",
       "    </tr>\n",
       "    <tr>\n",
       "      <th>3111</th>\n",
       "      <td>3112</td>\n",
       "      <td>6</td>\n",
       "      <td>NaN</td>\n",
       "      <td>596.22757</td>\n",
       "      <td>2196.00</td>\n",
       "      <td>265.87</td>\n",
       "      <td>0.41</td>\n",
       "      <td>9295.59</td>\n",
       "      <td>2036</td>\n",
       "      <td>5009.29</td>\n",
       "      <td>156</td>\n",
       "    </tr>\n",
       "  </tbody>\n",
       "</table>\n",
       "<p>3058 rows × 11 columns</p>\n",
       "</div>"
      ],
      "text/plain": [
       "      user_id  Q1          Q2  Total Traffic(MB)  Downlink Throughput(Kbps)  \\\n",
       "0           1   5         NaN          775.48846                     360.13   \n",
       "1           2   5           4          861.96324                    3023.54   \n",
       "2           3   1           4          261.11860                     790.96   \n",
       "3           4   8           3          179.18564                    2590.97   \n",
       "4           5   2     2, 3, 4          351.99208                     731.61   \n",
       "...       ...  ..         ...                ...                        ...   \n",
       "3107     3108   3     1, 4, 5          519.96475                    1045.70   \n",
       "3108     3109   3  1, 3, 4, 5          171.52629                     670.32   \n",
       "3109     3110  10         NaN          187.44936                     590.29   \n",
       "3110     3111   6        1, 3          827.74515                    1841.90   \n",
       "3111     3112   6         NaN          596.22757                    2196.00   \n",
       "\n",
       "      Uplink Throughput(Kbps)  Downlink TCP Retransmission Rate(%)  \\\n",
       "0                       86.56                                 3.93   \n",
       "1                      411.18                                 1.27   \n",
       "2                       34.20                                 1.79   \n",
       "3                      325.88                                 0.80   \n",
       "4                      223.54                                 1.15   \n",
       "...                       ...                                  ...   \n",
       "3107                    44.61                                 0.47   \n",
       "3108                    40.94                                 2.35   \n",
       "3109                   186.36                                 2.06   \n",
       "3110                   373.53                                 1.21   \n",
       "3111                   265.87                                 0.41   \n",
       "\n",
       "      Video Streaming Download Throughput(Kbps)  \\\n",
       "0                                       1859.15   \n",
       "1                                        667.47   \n",
       "2                                       1079.60   \n",
       "3                                       7053.81   \n",
       "4                                       4550.38   \n",
       "...                                         ...   \n",
       "3107                                    4523.66   \n",
       "3108                                    1711.54   \n",
       "3109                                    3182.83   \n",
       "3110                                    5675.93   \n",
       "3111                                    9295.59   \n",
       "\n",
       "      Video Streaming xKB Start Delay(ms)  Web Page Download Throughput(Kbps)  \\\n",
       "0                                    2309                             1007.82   \n",
       "1                                    2080                              255.36   \n",
       "2                                    6367                              535.85   \n",
       "3                                    3218                             1221.02   \n",
       "4                                    1767                             2336.56   \n",
       "...                                   ...                                 ...   \n",
       "3107                                 1468                             1044.66   \n",
       "3108                                 2780                              954.91   \n",
       "3109                                 2195                             1094.62   \n",
       "3110                                 1905                             2361.88   \n",
       "3111                                 2036                             5009.29   \n",
       "\n",
       "      Web Average TCP RTT(ms)  \n",
       "0                          83  \n",
       "1                         425  \n",
       "2                         485  \n",
       "3                          51  \n",
       "4                          68  \n",
       "...                       ...  \n",
       "3107                      304  \n",
       "3108                      251  \n",
       "3109                      109  \n",
       "3110                      202  \n",
       "3111                      156  \n",
       "\n",
       "[3058 rows x 11 columns]"
      ]
     },
     "execution_count": 12,
     "metadata": {},
     "output_type": "execute_result"
    }
   ],
   "source": [
    "df"
   ]
  },
  {
   "cell_type": "code",
   "execution_count": 11,
   "id": "98091682-db0b-4c56-bbc0-7d29488218a3",
   "metadata": {
    "tags": []
   },
   "outputs": [
    {
     "data": {
      "application/vnd.plotly.v1+json": {
       "config": {
        "plotlyServerURL": "https://plot.ly"
       },
       "data": [
        {
         "marker": {
          "color": "green"
         },
         "text": [
          532,
          168,
          325,
          123,
          234,
          101,
          200,
          291,
          238,
          846
         ],
         "textposition": "inside",
         "type": "bar",
         "x": [
          1,
          2,
          3,
          4,
          5,
          6,
          7,
          8,
          9,
          10
         ],
         "y": [
          532,
          168,
          325,
          123,
          234,
          101,
          200,
          291,
          238,
          846
         ]
        }
       ],
       "layout": {
        "template": {
         "data": {
          "bar": [
           {
            "error_x": {
             "color": "#2a3f5f"
            },
            "error_y": {
             "color": "#2a3f5f"
            },
            "marker": {
             "line": {
              "color": "#E5ECF6",
              "width": 0.5
             },
             "pattern": {
              "fillmode": "overlay",
              "size": 10,
              "solidity": 0.2
             }
            },
            "type": "bar"
           }
          ],
          "barpolar": [
           {
            "marker": {
             "line": {
              "color": "#E5ECF6",
              "width": 0.5
             },
             "pattern": {
              "fillmode": "overlay",
              "size": 10,
              "solidity": 0.2
             }
            },
            "type": "barpolar"
           }
          ],
          "carpet": [
           {
            "aaxis": {
             "endlinecolor": "#2a3f5f",
             "gridcolor": "white",
             "linecolor": "white",
             "minorgridcolor": "white",
             "startlinecolor": "#2a3f5f"
            },
            "baxis": {
             "endlinecolor": "#2a3f5f",
             "gridcolor": "white",
             "linecolor": "white",
             "minorgridcolor": "white",
             "startlinecolor": "#2a3f5f"
            },
            "type": "carpet"
           }
          ],
          "choropleth": [
           {
            "colorbar": {
             "outlinewidth": 0,
             "ticks": ""
            },
            "type": "choropleth"
           }
          ],
          "contour": [
           {
            "colorbar": {
             "outlinewidth": 0,
             "ticks": ""
            },
            "colorscale": [
             [
              0,
              "#0d0887"
             ],
             [
              0.1111111111111111,
              "#46039f"
             ],
             [
              0.2222222222222222,
              "#7201a8"
             ],
             [
              0.3333333333333333,
              "#9c179e"
             ],
             [
              0.4444444444444444,
              "#bd3786"
             ],
             [
              0.5555555555555556,
              "#d8576b"
             ],
             [
              0.6666666666666666,
              "#ed7953"
             ],
             [
              0.7777777777777778,
              "#fb9f3a"
             ],
             [
              0.8888888888888888,
              "#fdca26"
             ],
             [
              1,
              "#f0f921"
             ]
            ],
            "type": "contour"
           }
          ],
          "contourcarpet": [
           {
            "colorbar": {
             "outlinewidth": 0,
             "ticks": ""
            },
            "type": "contourcarpet"
           }
          ],
          "heatmap": [
           {
            "colorbar": {
             "outlinewidth": 0,
             "ticks": ""
            },
            "colorscale": [
             [
              0,
              "#0d0887"
             ],
             [
              0.1111111111111111,
              "#46039f"
             ],
             [
              0.2222222222222222,
              "#7201a8"
             ],
             [
              0.3333333333333333,
              "#9c179e"
             ],
             [
              0.4444444444444444,
              "#bd3786"
             ],
             [
              0.5555555555555556,
              "#d8576b"
             ],
             [
              0.6666666666666666,
              "#ed7953"
             ],
             [
              0.7777777777777778,
              "#fb9f3a"
             ],
             [
              0.8888888888888888,
              "#fdca26"
             ],
             [
              1,
              "#f0f921"
             ]
            ],
            "type": "heatmap"
           }
          ],
          "heatmapgl": [
           {
            "colorbar": {
             "outlinewidth": 0,
             "ticks": ""
            },
            "colorscale": [
             [
              0,
              "#0d0887"
             ],
             [
              0.1111111111111111,
              "#46039f"
             ],
             [
              0.2222222222222222,
              "#7201a8"
             ],
             [
              0.3333333333333333,
              "#9c179e"
             ],
             [
              0.4444444444444444,
              "#bd3786"
             ],
             [
              0.5555555555555556,
              "#d8576b"
             ],
             [
              0.6666666666666666,
              "#ed7953"
             ],
             [
              0.7777777777777778,
              "#fb9f3a"
             ],
             [
              0.8888888888888888,
              "#fdca26"
             ],
             [
              1,
              "#f0f921"
             ]
            ],
            "type": "heatmapgl"
           }
          ],
          "histogram": [
           {
            "marker": {
             "pattern": {
              "fillmode": "overlay",
              "size": 10,
              "solidity": 0.2
             }
            },
            "type": "histogram"
           }
          ],
          "histogram2d": [
           {
            "colorbar": {
             "outlinewidth": 0,
             "ticks": ""
            },
            "colorscale": [
             [
              0,
              "#0d0887"
             ],
             [
              0.1111111111111111,
              "#46039f"
             ],
             [
              0.2222222222222222,
              "#7201a8"
             ],
             [
              0.3333333333333333,
              "#9c179e"
             ],
             [
              0.4444444444444444,
              "#bd3786"
             ],
             [
              0.5555555555555556,
              "#d8576b"
             ],
             [
              0.6666666666666666,
              "#ed7953"
             ],
             [
              0.7777777777777778,
              "#fb9f3a"
             ],
             [
              0.8888888888888888,
              "#fdca26"
             ],
             [
              1,
              "#f0f921"
             ]
            ],
            "type": "histogram2d"
           }
          ],
          "histogram2dcontour": [
           {
            "colorbar": {
             "outlinewidth": 0,
             "ticks": ""
            },
            "colorscale": [
             [
              0,
              "#0d0887"
             ],
             [
              0.1111111111111111,
              "#46039f"
             ],
             [
              0.2222222222222222,
              "#7201a8"
             ],
             [
              0.3333333333333333,
              "#9c179e"
             ],
             [
              0.4444444444444444,
              "#bd3786"
             ],
             [
              0.5555555555555556,
              "#d8576b"
             ],
             [
              0.6666666666666666,
              "#ed7953"
             ],
             [
              0.7777777777777778,
              "#fb9f3a"
             ],
             [
              0.8888888888888888,
              "#fdca26"
             ],
             [
              1,
              "#f0f921"
             ]
            ],
            "type": "histogram2dcontour"
           }
          ],
          "mesh3d": [
           {
            "colorbar": {
             "outlinewidth": 0,
             "ticks": ""
            },
            "type": "mesh3d"
           }
          ],
          "parcoords": [
           {
            "line": {
             "colorbar": {
              "outlinewidth": 0,
              "ticks": ""
             }
            },
            "type": "parcoords"
           }
          ],
          "pie": [
           {
            "automargin": true,
            "type": "pie"
           }
          ],
          "scatter": [
           {
            "marker": {
             "colorbar": {
              "outlinewidth": 0,
              "ticks": ""
             }
            },
            "type": "scatter"
           }
          ],
          "scatter3d": [
           {
            "line": {
             "colorbar": {
              "outlinewidth": 0,
              "ticks": ""
             }
            },
            "marker": {
             "colorbar": {
              "outlinewidth": 0,
              "ticks": ""
             }
            },
            "type": "scatter3d"
           }
          ],
          "scattercarpet": [
           {
            "marker": {
             "colorbar": {
              "outlinewidth": 0,
              "ticks": ""
             }
            },
            "type": "scattercarpet"
           }
          ],
          "scattergeo": [
           {
            "marker": {
             "colorbar": {
              "outlinewidth": 0,
              "ticks": ""
             }
            },
            "type": "scattergeo"
           }
          ],
          "scattergl": [
           {
            "marker": {
             "colorbar": {
              "outlinewidth": 0,
              "ticks": ""
             }
            },
            "type": "scattergl"
           }
          ],
          "scattermapbox": [
           {
            "marker": {
             "colorbar": {
              "outlinewidth": 0,
              "ticks": ""
             }
            },
            "type": "scattermapbox"
           }
          ],
          "scatterpolar": [
           {
            "marker": {
             "colorbar": {
              "outlinewidth": 0,
              "ticks": ""
             }
            },
            "type": "scatterpolar"
           }
          ],
          "scatterpolargl": [
           {
            "marker": {
             "colorbar": {
              "outlinewidth": 0,
              "ticks": ""
             }
            },
            "type": "scatterpolargl"
           }
          ],
          "scatterternary": [
           {
            "marker": {
             "colorbar": {
              "outlinewidth": 0,
              "ticks": ""
             }
            },
            "type": "scatterternary"
           }
          ],
          "surface": [
           {
            "colorbar": {
             "outlinewidth": 0,
             "ticks": ""
            },
            "colorscale": [
             [
              0,
              "#0d0887"
             ],
             [
              0.1111111111111111,
              "#46039f"
             ],
             [
              0.2222222222222222,
              "#7201a8"
             ],
             [
              0.3333333333333333,
              "#9c179e"
             ],
             [
              0.4444444444444444,
              "#bd3786"
             ],
             [
              0.5555555555555556,
              "#d8576b"
             ],
             [
              0.6666666666666666,
              "#ed7953"
             ],
             [
              0.7777777777777778,
              "#fb9f3a"
             ],
             [
              0.8888888888888888,
              "#fdca26"
             ],
             [
              1,
              "#f0f921"
             ]
            ],
            "type": "surface"
           }
          ],
          "table": [
           {
            "cells": {
             "fill": {
              "color": "#EBF0F8"
             },
             "line": {
              "color": "white"
             }
            },
            "header": {
             "fill": {
              "color": "#C8D4E3"
             },
             "line": {
              "color": "white"
             }
            },
            "type": "table"
           }
          ]
         },
         "layout": {
          "annotationdefaults": {
           "arrowcolor": "#2a3f5f",
           "arrowhead": 0,
           "arrowwidth": 1
          },
          "autotypenumbers": "strict",
          "coloraxis": {
           "colorbar": {
            "outlinewidth": 0,
            "ticks": ""
           }
          },
          "colorscale": {
           "diverging": [
            [
             0,
             "#8e0152"
            ],
            [
             0.1,
             "#c51b7d"
            ],
            [
             0.2,
             "#de77ae"
            ],
            [
             0.3,
             "#f1b6da"
            ],
            [
             0.4,
             "#fde0ef"
            ],
            [
             0.5,
             "#f7f7f7"
            ],
            [
             0.6,
             "#e6f5d0"
            ],
            [
             0.7,
             "#b8e186"
            ],
            [
             0.8,
             "#7fbc41"
            ],
            [
             0.9,
             "#4d9221"
            ],
            [
             1,
             "#276419"
            ]
           ],
           "sequential": [
            [
             0,
             "#0d0887"
            ],
            [
             0.1111111111111111,
             "#46039f"
            ],
            [
             0.2222222222222222,
             "#7201a8"
            ],
            [
             0.3333333333333333,
             "#9c179e"
            ],
            [
             0.4444444444444444,
             "#bd3786"
            ],
            [
             0.5555555555555556,
             "#d8576b"
            ],
            [
             0.6666666666666666,
             "#ed7953"
            ],
            [
             0.7777777777777778,
             "#fb9f3a"
            ],
            [
             0.8888888888888888,
             "#fdca26"
            ],
            [
             1,
             "#f0f921"
            ]
           ],
           "sequentialminus": [
            [
             0,
             "#0d0887"
            ],
            [
             0.1111111111111111,
             "#46039f"
            ],
            [
             0.2222222222222222,
             "#7201a8"
            ],
            [
             0.3333333333333333,
             "#9c179e"
            ],
            [
             0.4444444444444444,
             "#bd3786"
            ],
            [
             0.5555555555555556,
             "#d8576b"
            ],
            [
             0.6666666666666666,
             "#ed7953"
            ],
            [
             0.7777777777777778,
             "#fb9f3a"
            ],
            [
             0.8888888888888888,
             "#fdca26"
            ],
            [
             1,
             "#f0f921"
            ]
           ]
          },
          "colorway": [
           "#636efa",
           "#EF553B",
           "#00cc96",
           "#ab63fa",
           "#FFA15A",
           "#19d3f3",
           "#FF6692",
           "#B6E880",
           "#FF97FF",
           "#FECB52"
          ],
          "font": {
           "color": "#2a3f5f"
          },
          "geo": {
           "bgcolor": "white",
           "lakecolor": "white",
           "landcolor": "#E5ECF6",
           "showlakes": true,
           "showland": true,
           "subunitcolor": "white"
          },
          "hoverlabel": {
           "align": "left"
          },
          "hovermode": "closest",
          "mapbox": {
           "style": "light"
          },
          "paper_bgcolor": "white",
          "plot_bgcolor": "#E5ECF6",
          "polar": {
           "angularaxis": {
            "gridcolor": "white",
            "linecolor": "white",
            "ticks": ""
           },
           "bgcolor": "#E5ECF6",
           "radialaxis": {
            "gridcolor": "white",
            "linecolor": "white",
            "ticks": ""
           }
          },
          "scene": {
           "xaxis": {
            "backgroundcolor": "#E5ECF6",
            "gridcolor": "white",
            "gridwidth": 2,
            "linecolor": "white",
            "showbackground": true,
            "ticks": "",
            "zerolinecolor": "white"
           },
           "yaxis": {
            "backgroundcolor": "#E5ECF6",
            "gridcolor": "white",
            "gridwidth": 2,
            "linecolor": "white",
            "showbackground": true,
            "ticks": "",
            "zerolinecolor": "white"
           },
           "zaxis": {
            "backgroundcolor": "#E5ECF6",
            "gridcolor": "white",
            "gridwidth": 2,
            "linecolor": "white",
            "showbackground": true,
            "ticks": "",
            "zerolinecolor": "white"
           }
          },
          "shapedefaults": {
           "line": {
            "color": "#2a3f5f"
           }
          },
          "ternary": {
           "aaxis": {
            "gridcolor": "white",
            "linecolor": "white",
            "ticks": ""
           },
           "baxis": {
            "gridcolor": "white",
            "linecolor": "white",
            "ticks": ""
           },
           "bgcolor": "#E5ECF6",
           "caxis": {
            "gridcolor": "white",
            "linecolor": "white",
            "ticks": ""
           }
          },
          "title": {
           "x": 0.05
          },
          "xaxis": {
           "automargin": true,
           "gridcolor": "white",
           "linecolor": "white",
           "ticks": "",
           "title": {
            "standoff": 15
           },
           "zerolinecolor": "white",
           "zerolinewidth": 2
          },
          "yaxis": {
           "automargin": true,
           "gridcolor": "white",
           "linecolor": "white",
           "ticks": "",
           "title": {
            "standoff": 15
           },
           "zerolinecolor": "white",
           "zerolinewidth": 2
          }
         }
        },
        "title": {
         "text": "Распределение оценок"
        },
        "xaxis": {
         "dtick": 1,
         "title": {
          "text": "Оценки Q1"
         }
        },
        "yaxis": {
         "title": {
          "text": "Количество"
         }
        }
       }
      }
     },
     "metadata": {},
     "output_type": "display_data"
    }
   ],
   "source": [
    "# Визуализация распределения оценок q1\n",
    "df_marks = df.groupby('Q1').agg({'user_id' : 'count'})\n",
    "fig = go.Figure(data=[go.Bar(x = df_marks.index, y = df_marks['user_id'], marker_color = 'green', text=df_marks['user_id'], textposition='inside')])          \n",
    "fig.update_layout(title = 'Распределение оценок')\n",
    "fig.update_xaxes({'dtick' :1}, title = 'Оценки Q1')\n",
    "fig.update_yaxes(title = 'Количество') \n",
    "fig.show()"
   ]
  },
  {
   "cell_type": "code",
   "execution_count": null,
   "id": "9419e573-3663-4158-bea8-43b64c6a3752",
   "metadata": {},
   "outputs": [],
   "source": []
  },
  {
   "cell_type": "code",
   "execution_count": null,
   "id": "35aaad58-ca63-4d45-b240-94794e6a9c53",
   "metadata": {},
   "outputs": [],
   "source": []
  },
  {
   "cell_type": "code",
   "execution_count": null,
   "id": "a703b23e-3c31-47eb-b14e-1d0a24cb210a",
   "metadata": {},
   "outputs": [],
   "source": []
  },
  {
   "cell_type": "code",
   "execution_count": null,
   "id": "d00d559d-b14d-42e3-9cef-9135ef9bf3e0",
   "metadata": {},
   "outputs": [],
   "source": []
  }
 ],
 "metadata": {
  "kernelspec": {
   "display_name": "Python 3 (ipykernel)",
   "language": "python",
   "name": "python3"
  },
  "language_info": {
   "codemirror_mode": {
    "name": "ipython",
    "version": 3
   },
   "file_extension": ".py",
   "mimetype": "text/x-python",
   "name": "python",
   "nbconvert_exporter": "python",
   "pygments_lexer": "ipython3",
   "version": "3.9.7"
  }
 },
 "nbformat": 4,
 "nbformat_minor": 5
}
