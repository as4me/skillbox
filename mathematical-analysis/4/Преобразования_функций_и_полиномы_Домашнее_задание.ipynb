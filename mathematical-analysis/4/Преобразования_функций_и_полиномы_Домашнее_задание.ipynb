{
 "cells": [
  {
   "cell_type": "markdown",
   "metadata": {
    "id": "yyo73hwFEoJt"
   },
   "source": [
    "## Преобразования функций и полиномы. Домашнее задание\n",
    "\n",
    "С помощью SymPy найдите полиномы, описывающие данные наборы точек. Затем проведите полное исследование каждого полученного полинома: проверьте четность/нечетность, найдите нули, промежутки знакопостоянства. Постройте их графики. С помощью изменения промежутка для х добейтесь того, чтобы все нули были отображены на графике функции.<br><br>\n",
    "Средний уровень <br><br>\n",
    "$(-2, 2), (-1, 1), (0, 0), (1, 1), (2, 2)$<br><br>\n",
    "Сложный уровень <br><br>\n",
    "$(-3, 33), (-2, 31), (-1, 18), (1, -18), (2, -31), (3, -33)$\n"
   ]
  },
  {
   "cell_type": "code",
   "execution_count": 61,
   "metadata": {
    "id": "bVBLXKfjEiEA"
   },
   "outputs": [],
   "source": [
    "from sympy import *\n",
    "init_printing(use_unicode=False,wrap_line=False,no_global=True)\n",
    "from sympy.plotting import plot\n",
    "from sympy.solvers.inequalities import solve_univariate_inequality\n",
    "x = Symbol('x')\n",
    "\n"
   ]
  },
  {
   "cell_type": "code",
   "execution_count": 4,
   "metadata": {},
   "outputs": [],
   "source": [
    "a0,a1,a2,a3,a4 = symbols('a0,a1,a2,a3,a4')"
   ]
  },
  {
   "cell_type": "code",
   "execution_count": 23,
   "metadata": {},
   "outputs": [],
   "source": [
    "eq1_lp = a4*(-2)**4+(-2)**3*a3 + (-2)**2*a2 + (-2)*a1 + a0 - 2\n",
    "\n",
    "eq2_lp = a4*(-1)**4+(-1)**3*a3 + (-1)**2*a2 + (-1)*a1 + a0 - 1\n",
    "eq3_lp = a4*(0)**4+(0)**3*a3 + (0)**2*a2 + (0)*a1 + a0 + 0\n",
    "\n",
    "eq4_lp = a4*(1)**4+(1)**3*a3 + (1)**2*a2 + (1)*a1 + a0 - 1\n",
    "\n",
    "eq5_lp = a4*(2)**4+(2)**3*a3 + (2)**2*a2 + (2)*a1 + a0 - 2\n"
   ]
  },
  {
   "cell_type": "code",
   "execution_count": 24,
   "metadata": {},
   "outputs": [
    {
     "data": {
      "image/png": "[encoded data removed]",
      "text/latex": [
       "$\\displaystyle \\left\\{\\left( - \\frac{1}{6}, \\  0, \\  \\frac{7}{6}, \\  0, \\  0\\right)\\right\\}$"
      ],
      "text/plain": [
       "{(-1/6, 0, 7/6, 0, 0)}"
      ]
     },
     "execution_count": 24,
     "metadata": {},
     "output_type": "execute_result"
    }
   ],
   "source": [
    "nonlinsolve([eq1_lp, eq2_lp, eq3_lp, eq4_lp,eq5_lp], [a4,a3, a2, a1, a0])"
   ]
  },
  {
   "cell_type": "code",
   "execution_count": 25,
   "metadata": {},
   "outputs": [],
   "source": [
    "x = Symbol('x')\n",
    "f = -1/6*x**4+0*x**3+7/6*x**2+0"
   ]
  },
  {
   "cell_type": "code",
   "execution_count": 26,
   "metadata": {},
   "outputs": [
    {
     "data": {
      "image/png": "[encoded data removed]",
      "text/latex": [
       "$\\displaystyle - 0.166666666666667 x^{4} + 1.16666666666667 x^{2}$"
      ],
      "text/plain": [
       "                     4                     2\n",
       "- 0.166666666666667*x  + 1.16666666666667*x "
      ]
     },
     "execution_count": 26,
     "metadata": {},
     "output_type": "execute_result"
    }
   ],
   "source": [
    "f\n"
   ]
  },
  {
   "cell_type": "code",
   "execution_count": 27,
   "metadata": {},
   "outputs": [
    {
     "data": {
      "image/png": "[encoded data removed]",
      "text/latex": [
       "$\\displaystyle 2.0$"
      ],
      "text/plain": [
       "2.00000000000000"
      ]
     },
     "execution_count": 27,
     "metadata": {},
     "output_type": "execute_result"
    }
   ],
   "source": [
    "f.subs(x, 2)"
   ]
  },
  {
   "cell_type": "code",
   "execution_count": 71,
   "metadata": {},
   "outputs": [
    {
     "data": {
      "text/plain": [
       "[<matplotlib.lines.Line2D at 0x14fe3f481c0>]"
      ]
     },
     "execution_count": 71,
     "metadata": {},
     "output_type": "execute_result"
    },
    {
     "data": {
      "image/png": "[encoded data removed]",
      "text/plain": [
       "<Figure size 432x288 with 1 Axes>"
      ]
     },
     "metadata": {
      "needs_background": "light"
     },
     "output_type": "display_data"
    }
   ],
   "source": [
    "import numpy as np\n",
    "import matplotlib.pyplot as plt\n",
    "f = lambda x: -1/6*x**4+0*x**3+7/6*x**2\n",
    "x_range = np.linspace(-3,3,num=100)\n",
    "plt.scatter([-2,-1,0,1,2],[2,1,0,1,2],c='r')\n",
    "plt.plot(x_range,f(x_range))"
   ]
  },
  {
   "cell_type": "code",
   "execution_count": 65,
   "metadata": {},
   "outputs": [
    {
     "name": "stdout",
     "output_type": "stream",
     "text": [
      "Нули функции [-2.64575131106459, 0.0, 2.64575131106459]\n",
      "Четная функция \\/\n",
      "1.00000000000000 1.00000000000000\n",
      "Функция больше нуля на промежутках ((-2.64575131106459 < x) & (x < 0)) | ((0 < x) & (x < 2.64575131106459))\n",
      "Функция меньше нуля на промежутках ((-oo < x) & (x < -2.64575131106459)) | ((2.64575131106459 < x) & (x < oo))\n"
     ]
    }
   ],
   "source": [
    "q =  -1/6*x**4+0*x**3+7/6*x**2\n",
    "print('Нули функции',solve(q))\n",
    "print('Четная функция \\/')\n",
    "print(q.subs(x,1),q.subs(x,-1))\n",
    "print('Функция больше нуля на промежутках',solve_univariate_inequality(q>0,x))\n",
    "print('Функция меньше нуля на промежутках',solve_univariate_inequality(q<0,x))"
   ]
  },
  {
   "cell_type": "code",
   "execution_count": 33,
   "metadata": {},
   "outputs": [],
   "source": [
    "b0,b1,b2,b3,b4,b5 = symbols('b0,b1,b2,b3,b4,b5')\n",
    "eq1_lb =b5*(-3)**5 + b4*(-3)**4+(-3)**3*b3 + (-3)**2*b2 + (-3)*b1 + b0 - 33\n",
    "eq2_lb =b5*(-2)**5 + b4*(-2)**4+(-2)**3*b3 + (-2)**2*b2 + (-2)*b1 + b0 - 31\n",
    "eq3_lb =b5*(-1)**5 + b4*(-1)**4+(-1)**3*b3 + (-1)**2*b2 + (-1)*b1 + b0 - 18\n",
    "eq4_lb =b5*(1)**5 + b4*(1)**4+(1)**3*b3 + (1)**2*b2 + (1)*b1 + b0 + 18\n",
    "eq5_lb =b5*(2)**5 + b4*(2)**4+(2)**3*b3 + (2)**2*b2 + (2)*b1 + b0 + 31\n",
    "eq6_lb = b5*(3)**5 + b4*(3)**4+(3)**3*b3 + (3)**2*b2 + (3)*b1 + b0 + 33\n"
   ]
  },
  {
   "cell_type": "code",
   "execution_count": 36,
   "metadata": {},
   "outputs": [
    {
     "data": {
      "image/png": "[encoded data removed]",
      "text/latex": [
       "$\\displaystyle \\left\\{\\left( \\frac{1}{120}, \\  0, \\  \\frac{19}{24}, \\  0, \\  - \\frac{94}{5}, \\  0\\right)\\right\\}$"
      ],
      "text/plain": [
       "            19               \n",
       "{(1/120, 0, --, 0, -94/5, 0)}\n",
       "            24               "
      ]
     },
     "execution_count": 36,
     "metadata": {},
     "output_type": "execute_result"
    }
   ],
   "source": [
    "nonlinsolve([eq1_lb, eq2_lb, eq3_lb, eq4_lb,eq5_lb,eq6_lb], [b5,b4,b3, b2, b1, b0])"
   ]
  },
  {
   "cell_type": "code",
   "execution_count": 73,
   "metadata": {},
   "outputs": [
    {
     "data": {
      "text/plain": [
       "[<matplotlib.lines.Line2D at 0x14fe358d9a0>]"
      ]
     },
     "execution_count": 73,
     "metadata": {},
     "output_type": "execute_result"
    },
    {
     "data": {
      "image/png": "[encoded data removed]",
      "text/plain": [
       "<Figure size 432x288 with 1 Axes>"
      ]
     },
     "metadata": {
      "needs_background": "light"
     },
     "output_type": "display_data"
    }
   ],
   "source": [
    "f1 = lambda x:  1/120*x**5+0+19/24*x**3+0-94/5*x\n",
    "x_range = np.linspace(-6,6,num=100)\n",
    "plt.scatter([-3,-2,-1,1,2,3],[33,31,18,-18,-31,-33],c='r')\n",
    "plt.plot(x_range,f1(x_range))"
   ]
  },
  {
   "cell_type": "code",
   "execution_count": 43,
   "metadata": {},
   "outputs": [],
   "source": [
    "q1 = 1/120*x**5+0+19/24*x**3+0-94/5*x"
   ]
  },
  {
   "cell_type": "code",
   "execution_count": 66,
   "metadata": {},
   "outputs": [
    {
     "name": "stdout",
     "output_type": "stream",
     "text": [
      "Нули функции [-4.43545751638198, 0.0, 4.43545751638198, -10.7085612189327*I, 10.7085612189327*I]\n",
      "Нечетная функция \\/\n",
      "-18.0000000000000 18.0000000000000\n",
      "Функция больше нуля на промежутках ((-4.43545751638198 < x) & (x < 0)) | ((4.43545751638198 < x) & (x < oo))\n",
      "Функция меньше нуля на промежутках ((-oo < x) & (x < -4.43545751638198)) | ((0 < x) & (x < 4.43545751638198))\n"
     ]
    }
   ],
   "source": [
    "print('Нули функции',solve(q1))\n",
    "print('Нечетная функция \\/')\n",
    "print(q1.subs(x,1),q1.subs(x,-1))\n",
    "print('Функция больше нуля на промежутках',solve_univariate_inequality(q1>0,x))\n",
    "print('Функция меньше нуля на промежутках',solve_univariate_inequality(q1<0,x))"
   ]
  },
  {
   "cell_type": "code",
   "execution_count": null,
   "metadata": {},
   "outputs": [],
   "source": []
  }
 ],
 "metadata": {
  "colab": {
   "collapsed_sections": [],
   "name": "Преобразования функций и полиномы. Домашнее задание.ipynb",
   "provenance": []
  },
  "kernelspec": {
   "display_name": "Python 3",
   "language": "python",
   "name": "python3"
  },
  "language_info": {
   "codemirror_mode": {
    "name": "ipython",
    "version": 3
   },
   "file_extension": ".py",
   "mimetype": "text/x-python",
   "name": "python",
   "nbconvert_exporter": "python",
   "pygments_lexer": "ipython3",
   "version": "3.8.3"
  }
 },
 "nbformat": 4,
 "nbformat_minor": 1
}
