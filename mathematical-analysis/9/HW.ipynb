{
 "cells": [
  {
   "cell_type": "markdown",
   "metadata": {},
   "source": [
    "3 x (2 5 0 6 8 10 6 7 5 7) x 2 x (8 6 7 9 6 6 2 3 2 3) = (6 15 0 18 24 30 18 21 15 21) x (16 12 14 18 12 12 4 6 4 6) = 1644 <br>\n",
    "\n",
    "6 x (9 6 7 7 0 1 6 8 1 2) x 5 x (0 2 2 6 7 8 8 3 1 8) = (54 36 42 42 0 6 36 48 6 12) x (0 10 10 30 35 40 40 15 5 40) = 4950\n",
    "<br>\n",
    "(2 5 0 6 8 10 6 7 5 7) x (8 6 7 9 6 6 2 3 2 3) = 272\n",
    "<br>\n",
    "(9 6 7 7 0 1 6 8 1 2) x (0 2 2 6 7 8 8 3 1 8) = 165\n",
    "\n"
   ]
  },
  {
   "cell_type": "markdown",
   "metadata": {},
   "source": [
    "Задание 2"
   ]
  },
  {
   "cell_type": "code",
   "execution_count": 18,
   "metadata": {},
   "outputs": [
    {
     "data": {
      "text/plain": [
       "[[2, 1, 7, 4], [5, 6, 7, 3], [9, 8, 2, 12], [11, 14, 15, 15]]"
      ]
     },
     "execution_count": 18,
     "metadata": {},
     "output_type": "execute_result"
    }
   ],
   "source": [
    "def transpose(matr):\n",
    "    res=[]\n",
    "    n=len(matr)\n",
    "    m=len(matr[0])\n",
    "    for j in range(m):\n",
    "        tmp=[]\n",
    "        for i in range(n):\n",
    "            tmp=tmp+[matr[i][j]]\n",
    "        res=res+[tmp]\n",
    "    return res\n",
    "\n",
    "matrix = [[2,1,7,4], [5, 6,7,3],[9,8,2,12],[11,14,15,15]]\n",
    "matrix\n"
   ]
  },
  {
   "cell_type": "code",
   "execution_count": 19,
   "metadata": {},
   "outputs": [
    {
     "name": "stdout",
     "output_type": "stream",
     "text": [
      "2 1 7 4 \n",
      "5 6 7 3 \n",
      "9 8 2 12 \n",
      "11 14 15 15 \n"
     ]
    }
   ],
   "source": [
    "for row in matrix:\n",
    "    for elem in row:\n",
    "        print(elem, end=' ')\n",
    "    print()"
   ]
  },
  {
   "cell_type": "code",
   "execution_count": 21,
   "metadata": {},
   "outputs": [
    {
     "name": "stdout",
     "output_type": "stream",
     "text": [
      "2 1 7 4 \n",
      "5 6 7 3 \n",
      "9 8 2 12 \n",
      "11 14 15 15 \n"
     ]
    }
   ],
   "source": [
    "matrix = transpose(matrix)\n",
    "for row in matrix:\n",
    "    for elem in row:\n",
    "        print(elem, end=' ')\n",
    "    print()"
   ]
  },
  {
   "cell_type": "markdown",
   "metadata": {},
   "source": [
    "пункт 5"
   ]
  },
  {
   "cell_type": "code",
   "execution_count": 23,
   "metadata": {},
   "outputs": [
    {
     "data": {
      "text/plain": [
       "[[3, 7, 8, 3, 6], [2, 5, 9, 4, 13]]"
      ]
     },
     "execution_count": 23,
     "metadata": {},
     "output_type": "execute_result"
    }
   ],
   "source": [
    "matrix = [[3,7,8,3,6],[2,5,9,4,13]]\n",
    "matrix"
   ]
  },
  {
   "cell_type": "code",
   "execution_count": 25,
   "metadata": {},
   "outputs": [
    {
     "name": "stdout",
     "output_type": "stream",
     "text": [
      "3 7 8 3 6 \n",
      "2 5 9 4 13 \n"
     ]
    }
   ],
   "source": [
    "for row in matrix:\n",
    "    for elem in row:\n",
    "        print(elem, end=' ')\n",
    "    print()"
   ]
  },
  {
   "cell_type": "code",
   "execution_count": 27,
   "metadata": {},
   "outputs": [
    {
     "name": "stdout",
     "output_type": "stream",
     "text": [
      "3 7 8 3 6 \n",
      "2 5 9 4 13 \n"
     ]
    }
   ],
   "source": [
    "matrix = transpose(matrix)\n",
    "for row in matrix:\n",
    "    for elem in row:\n",
    "        print(elem, end=' ')\n",
    "    print()"
   ]
  },
  {
   "cell_type": "markdown",
   "metadata": {},
   "source": [
    "Задание 3"
   ]
  },
  {
   "cell_type": "code",
   "execution_count": 1,
   "metadata": {},
   "outputs": [
    {
     "data": {
      "text/latex": [
       "$\\displaystyle 0.25 \\left(a_{1} + 2 a_{2} - 5\\right)^{2} + 0.25 \\left(2 a_{1} + 4 a_{2} - 10\\right)^{2} + 0.25 \\left(3 a_{1} + 7 a_{2} - 8\\right)^{2} + 0.25 \\left(5 a_{1} + 3 a_{2} - 6\\right)^{2}$"
      ],
      "text/plain": [
       "0.25*(a1 + 2*a2 - 5)**2 + 0.25*(2*a1 + 4*a2 - 10)**2 + 0.25*(3*a1 + 7*a2 - 8)**2 + 0.25*(5*a1 + 3*a2 - 6)**2"
      ]
     },
     "execution_count": 1,
     "metadata": {},
     "output_type": "execute_result"
    }
   ],
   "source": [
    "from sympy import *\n",
    "a1, a2 = symbols('a1,a2')\n",
    "\n",
    "MSE = 1/4 *((1 * a1 +2 * a2 -5)**2 + \\\n",
    "           (5 * a1 + 3 * a2 -6)**2 + \\\n",
    "           (2 * a1 + 4 * a2 -10)**2 + \\\n",
    "           (3 * a1 + 7 * a2 -8)**2)\n",
    "MSE"
   ]
  },
  {
   "cell_type": "code",
   "execution_count": 32,
   "metadata": {},
   "outputs": [
    {
     "data": {
      "text/latex": [
       "$\\displaystyle 8.560825$"
      ],
      "text/plain": [
       "8.56082500000000"
      ]
     },
     "execution_count": 32,
     "metadata": {},
     "output_type": "execute_result"
    }
   ],
   "source": [
    "MSE.subs({a1: 0.57, a2: 0.91})"
   ]
  },
  {
   "cell_type": "code",
   "execution_count": 34,
   "metadata": {},
   "outputs": [
    {
     "data": {
      "text/latex": [
       "$\\displaystyle 19.5 a_{1} + 23.0 a_{2} - 39.5$"
      ],
      "text/plain": [
       "19.5*a1 + 23.0*a2 - 39.5"
      ]
     },
     "execution_count": 34,
     "metadata": {},
     "output_type": "execute_result"
    }
   ],
   "source": [
    "MSEa1 = diff(MSE,a1)\n",
    "MSEa1"
   ]
  },
  {
   "cell_type": "code",
   "execution_count": 36,
   "metadata": {},
   "outputs": [
    {
     "data": {
      "text/latex": [
       "$\\displaystyle 23.0 a_{1} + 39.0 a_{2} - 62.0$"
      ],
      "text/plain": [
       "23.0*a1 + 39.0*a2 - 62.0"
      ]
     },
     "execution_count": 36,
     "metadata": {},
     "output_type": "execute_result"
    }
   ],
   "source": [
    "MSEa2 = diff(MSE,a2)\n",
    "MSEa2"
   ]
  },
  {
   "cell_type": "code",
   "execution_count": 37,
   "metadata": {},
   "outputs": [],
   "source": [
    "step = 0.01"
   ]
  },
  {
   "cell_type": "code",
   "execution_count": 62,
   "metadata": {},
   "outputs": [
    {
     "data": {
      "text/plain": [
       "array([0.681826382468750, 1.15923265951250], dtype=object)"
      ]
     },
     "execution_count": 62,
     "metadata": {},
     "output_type": "execute_result"
    }
   ],
   "source": [
    "import numpy\n",
    "point = nexpoint\n",
    "point"
   ]
  },
  {
   "cell_type": "code",
   "execution_count": 63,
   "metadata": {},
   "outputs": [
    {
     "data": {
      "text/plain": [
       "array([0.457965626928125, -1.10791948223125], dtype=object)"
      ]
     },
     "execution_count": 63,
     "metadata": {},
     "output_type": "execute_result"
    }
   ],
   "source": [
    "grad = numpy.array([MSEa1.subs({a1:point[0],a2:point[1]}),\n",
    "                   MSEa2.subs({a1:point[0],a2:point[1]})])\n",
    "grad"
   ]
  },
  {
   "cell_type": "code",
   "execution_count": 64,
   "metadata": {},
   "outputs": [
    {
     "data": {
      "text/plain": [
       "array([0.677246726199469, 1.17031185433481], dtype=object)"
      ]
     },
     "execution_count": 64,
     "metadata": {},
     "output_type": "execute_result"
    }
   ],
   "source": [
    "nexpoint = point - grad * step\n",
    "nexpoint"
   ]
  },
  {
   "cell_type": "code",
   "execution_count": 65,
   "metadata": {},
   "outputs": [
    {
     "data": {
      "text/latex": [
       "$\\displaystyle 6.34873371109374$"
      ],
      "text/plain": [
       "6.34873371109374"
      ]
     },
     "execution_count": 65,
     "metadata": {},
     "output_type": "execute_result"
    }
   ],
   "source": [
    "MSE.subs({a1:nexpoint[0],a2:nexpoint[1]})"
   ]
  },
  {
   "cell_type": "code",
   "execution_count": null,
   "metadata": {},
   "outputs": [],
   "source": []
  }
 ],
 "metadata": {
  "kernelspec": {
   "display_name": "Python 3",
   "language": "python",
   "name": "python3"
  },
  "language_info": {
   "codemirror_mode": {
    "name": "ipython",
    "version": 3
   },
   "file_extension": ".py",
   "mimetype": "text/x-python",
   "name": "python",
   "nbconvert_exporter": "python",
   "pygments_lexer": "ipython3",
   "version": "3.8.3"
  }
 },
 "nbformat": 4,
 "nbformat_minor": 4
}
